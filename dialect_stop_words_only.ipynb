{
  "cells": [
    {
      "cell_type": "code",
      "execution_count": null,
      "metadata": {
        "colab": {
          "base_uri": "https://localhost:8080/"
        },
        "id": "8fHHzS8S5IG4",
        "outputId": "effdf064-cecb-4c6d-cd79-28f021a4d4ce"
      },
      "outputs": [
        {
          "name": "stderr",
          "output_type": "stream",
          "text": [
            "[nltk_data] Downloading package stopwords to /root/nltk_data...\n",
            "[nltk_data]   Unzipping corpora/stopwords.zip.\n"
          ]
        }
      ],
      "source": [
        "import nltk\n",
        "from nltk.corpus import stopwords\n",
        "\n",
        "nltk.download('stopwords')\n",
        "\n",
        "STOPWORDS = set(stopwords.words('english'))"
      ]
    },
    {
      "cell_type": "code",
      "execution_count": null,
      "metadata": {
        "colab": {
          "base_uri": "https://localhost:8080/"
        },
        "id": "EiaHxYln5eFD",
        "outputId": "fd671e7c-eae7-4484-d8f3-991b5ecf27e4"
      },
      "outputs": [
        {
          "name": "stdout",
          "output_type": "stream",
          "text": [
            "{\"you'll\", 'ma', 'how', 'can', 'you', 'won', 'am', 'whom', 'were', 'most', \"hasn't\", 'up', 'been', 'yourself', 'hers', 'under', 'o', 'didn', 'off', 'with', 'before', 'to', 'had', 'or', 'as', 's', 'about', 'its', 'me', 'and', 'yours', 'through', 'will', 'against', 'because', 'own', \"mustn't\", \"isn't\", 'he', \"that'll\", 'have', 'itself', 'at', 'd', 'few', \"weren't\", 'hadn', 'from', \"wasn't\", 'm', 'no', 'for', 'nor', 'shouldn', 'doesn', \"you're\", 'we', 'an', 'both', 'that', 'further', 'be', 'mightn', \"she's\", 'by', 'over', 'more', 'her', 'down', 'll', \"won't\", 'has', 'it', 'there', 'ourselves', 'ain', \"you'd\", 'do', 'wouldn', 'not', \"hadn't\", \"haven't\", 'himself', 'did', 'their', 'should', 'now', 'all', 'y', 'until', 'your', 'where', \"it's\", 'are', 'ours', 'him', 'into', 'here', 're', 'does', 'them', \"couldn't\", 'while', 'then', 'below', 'shan', 't', 'what', 'isn', 'herself', 'above', 'only', \"wouldn't\", \"shan't\", 'aren', 'theirs', 'too', 'yourselves', 'our', 'having', 'in', 'a', 'she', 'being', \"aren't\", 'very', 'once', \"mightn't\", 'just', 'mustn', 'those', \"didn't\", \"don't\", 'than', 'between', 'out', 'doing', 'any', 'other', \"doesn't\", 'which', \"should've\", 'some', 'needn', 'when', 'my', \"you've\", 'myself', 'i', 'why', \"needn't\", 'wasn', 'couldn', 'such', 'his', 'they', 'on', 'of', 'so', 'themselves', 'is', 'this', 'each', 'but', 'who', 'these', 'the', 'hasn', \"shouldn't\", 'was', 'during', 'again', 'don', 've', 'weren', 'after', 'haven', 'if', 'same'}\n"
          ]
        }
      ],
      "source": [
        "print(STOPWORDS)"
      ]
    },
    {
      "cell_type": "code",
      "execution_count": null,
      "metadata": {
        "id": "H3-7BBREU9U1"
      },
      "outputs": [],
      "source": [
        "import pandas as pd\n",
        "\n",
        "doc_dict = {}\n",
        "id_dict = {}\n",
        "word_count_dict = {}\n",
        "country_set = set()\n",
        "\n",
        "# pulls text IDs, country codes, document types, and word counts from the excel sheet,\n",
        "# using it to divide the documents into a dictionary by ID\n",
        "sources_df = pd.read_excel(\"/content/drive/MyDrive/text/sampleSources.xlsx\", sheet_name=\"texts\")\n",
        "for text_id, (country_code, doc_type), word_count in [\n",
        "    (l[0], tuple(l[1].split()), l[2]) for l in sources_df[[\"textID\", \"country|genre\", \"# words\"]].values.tolist()\n",
        "]:\n",
        "    with open(f\"/content/drive/MyDrive/text/w_{country_code.lower()}_{doc_type.lower()}.txt\", 'r', encoding=\"utf-8\") as file:\n",
        "        if f\"{country_code}_{doc_type}\" not in id_dict:\n",
        "            id_dict[f\"{country_code}_{doc_type}\"] = [text_id]\n",
        "        else:\n",
        "            id_dict[f\"{country_code}_{doc_type}\"].append(text_id)\n",
        "\n",
        "        country_set.add(country_code)\n",
        "\n",
        "        IS_DOC = False\n",
        "        lines = file.readlines()\n",
        "        for i, line in enumerate(lines):\n",
        "            if line.strip().startswith(f\"##{text_id}\"):\n",
        "                IS_DOC = True\n",
        "            elif line.strip().startswith(\"##\"):\n",
        "                IS_DOC = False\n",
        "            if IS_DOC:\n",
        "                if text_id not in doc_dict:\n",
        "                    doc_dict[text_id] = [w.lower() for w in line.split() if w.lower() in STOPWORDS]\n",
        "                else:\n",
        "                    doc_dict[text_id] += [w.lower() for w in line.split() if w.lower() in STOPWORDS]\n",
        "\n",
        "        word_count_dict[text_id] = word_count"
      ]
    },
    {
      "cell_type": "code",
      "execution_count": null,
      "metadata": {
        "colab": {
          "base_uri": "https://localhost:8080/"
        },
        "id": "CXK3mWXOVBw4",
        "outputId": "6ca23e7e-51b7-4b9c-ba75-b9b1525dc6ec"
      },
      "outputs": [
        {
          "name": "stdout",
          "output_type": "stream",
          "text": [
            "Mounted at /content/drive\n"
          ]
        }
      ],
      "source": [
        "from google.colab import drive\n",
        "drive.mount('/content/drive')"
      ]
    },
    {
      "cell_type": "code",
      "execution_count": null,
      "metadata": {
        "colab": {
          "base_uri": "https://localhost:8080/"
        },
        "id": "CefSdUnEWSyb",
        "outputId": "704d15e3-a688-4031-ee7f-7a9b6e729817"
      },
      "outputs": [
        {
          "name": "stdout",
          "output_type": "stream",
          "text": [
            "683\n"
          ]
        }
      ],
      "source": [
        "print(word_count)"
      ]
    },
    {
      "cell_type": "code",
      "execution_count": null,
      "metadata": {
        "id": "DAkuVd0EU9U3"
      },
      "outputs": [],
      "source": [
        "import copy\n",
        "from collections import Counter\n",
        "\n",
        "# make a counter for every word in the corpus\n",
        "vocab = Counter({})\n",
        "vocab['<UNK>'] = 0\n",
        "for doc in doc_dict.values():\n",
        "    for word in doc:\n",
        "        if word in vocab:\n",
        "            vocab[word] += 1\n",
        "        else:\n",
        "            vocab[word] = 1\n",
        "\n",
        "# make a dictionary of sets for every country and record every word used by each country\n",
        "# also make a word count for every country\n",
        "vocab_sets = {country_code:set() for country_code in country_set}\n",
        "country_word_counts = Counter({country_code:0 for country_code in country_set})\n",
        "for country_code in country_set:\n",
        "    for text_id in id_dict[f\"{country_code}_B\"] + id_dict[f\"{country_code}_G\"]:\n",
        "        for word in doc_dict[text_id]:\n",
        "            vocab_sets[country_code].add(word)\n",
        "        country_word_counts[country_code] += word_count_dict[text_id]\n",
        "\n",
        "# make new vocabulary sets, removing words that appear in less than\n",
        "# 12.5%, 25%, 37.5%, and 50% of the countries datasets respectively\n",
        "vocab_25 = vocab.copy()\n",
        "vocab_50 = vocab.copy()\n",
        "for word in vocab:\n",
        "    COUNTRY_COUNT = 0\n",
        "    for country_code in country_set:\n",
        "        if word in vocab_sets[country_code]:\n",
        "            COUNTRY_COUNT+=1\n",
        "    if COUNTRY_COUNT / len(country_set) < 0.25:\n",
        "        del vocab_25[word]\n",
        "    if COUNTRY_COUNT / len(country_set) < 0.5:\n",
        "        del vocab_50[word]\n",
        "\n",
        "# Replace any words that appear in less than 25% of the countries’ datasets with the <UNK> token\n",
        "doc_dict_25 = copy.deepcopy(doc_dict)\n",
        "for text_id, doc in doc_dict_25.items():\n",
        "    for i, word in enumerate(doc):\n",
        "        if word not in vocab_25:\n",
        "            doc_dict_25[text_id][i] = '<UNK>'\n",
        "            vocab_25['<UNK>'] += 1\n",
        "\n",
        "# Replace any words that appear in less than 50% of the countries’ datasets with the <UNK> token\n",
        "doc_dict_50 = copy.deepcopy(doc_dict)\n",
        "for text_id, doc in doc_dict_50.items():\n",
        "    for i, word in enumerate(doc):\n",
        "        if word not in vocab_50:\n",
        "            doc_dict_50[text_id][i] = '<UNK>'\n",
        "            vocab_50['<UNK>'] += 1"
      ]
    },
    {
      "cell_type": "code",
      "execution_count": null,
      "metadata": {
        "id": "KkWN7nFcU9U3"
      },
      "outputs": [],
      "source": [
        "from sklearn.feature_extraction.text import CountVectorizer\n",
        "\n",
        "# make a dataframe of one-hot representations of each text in each version of the dataset with their country labels\n",
        "text_ids = []\n",
        "texts = []\n",
        "texts_25 = []\n",
        "texts_50 = []\n",
        "country_labels = []\n",
        "\n",
        "for country_code in country_set:\n",
        "    for text_id in id_dict[f\"{country_code}_B\"] + id_dict[f\"{country_code}_G\"]:\n",
        "        text_ids.append(text_ids)\n",
        "        texts.append(\" \".join(doc_dict[text_id]))\n",
        "        texts_25.append(\" \".join(doc_dict_25[text_id]))\n",
        "        texts_50.append(\" \".join(doc_dict_50[text_id]))\n",
        "        country_labels.append(country_code)\n",
        "\n",
        "data = {\n",
        "    'text_id': text_ids,\n",
        "    'texts': texts,\n",
        "    'texts_25': texts_25,\n",
        "    'texts_50': texts_50,\n",
        "    'country_labels': country_labels\n",
        "}\n",
        "\n",
        "df = pd.DataFrame(data)\n",
        "\n",
        "vectorizer = CountVectorizer()\n",
        "X = vectorizer.fit_transform(df['texts'])\n",
        "X_25 = vectorizer.fit_transform(df['texts_25'])\n",
        "X_50 = vectorizer.fit_transform(df['texts_50'])\n",
        "y = df['country_labels']"
      ]
    },
    {
      "cell_type": "code",
      "execution_count": null,
      "metadata": {
        "id": "5ufpTtduU9U4"
      },
      "outputs": [],
      "source": [
        "def probability_breakdown(model, X_test, y_test):\n",
        "    # makes a dictionary of probability Counters for every country label for each country's documents\n",
        "    most_probable_country = {c:Counter({c:0 for c in country_set}) for c in country_set}\n",
        "    for test_num, probabilities in enumerate(model.predict_proba(X_test)):\n",
        "        for i, probability in enumerate(probabilities):\n",
        "            most_probable_country[y_test.tolist()[test_num]][model.classes_[i]] += probability\n",
        "\n",
        "    return most_probable_country"
      ]
    },
    {
      "cell_type": "code",
      "execution_count": null,
      "metadata": {
        "id": "dqRBwpPbU9U4"
      },
      "outputs": [],
      "source": [
        "def average_tries(model, X_test, y_test, print_output=False):\n",
        "    \"\"\"\n",
        "    Takes the model and testing data.\n",
        "    Returns average tries needed to return the right label,\n",
        "    average tries per country, and number of tests per country.\n",
        "    \"\"\"\n",
        "\n",
        "    # Matches each country label to its probability in a dataframe\n",
        "    df = pd.DataFrame(model.predict_proba(X_test).tolist(), columns=model.classes_.tolist())\n",
        "\n",
        "    # Sorts each probability distribution for highest probability\n",
        "    # and records the number of iterations needed to get to the right label\n",
        "    country_try_count = {c:0 for c in country_set}\n",
        "    country_test_count = Counter(y_test)\n",
        "    for i in range(len(df)):\n",
        "        for try_count, (country_code, _) in enumerate(sorted(df.iloc[i].to_dict().items(), key=lambda item: item[1], reverse=True)):\n",
        "            if country_code == y_test.tolist()[i]:\n",
        "                country_try_count[country_code] += try_count+1\n",
        "                break\n",
        "\n",
        "    # Averages the country try count by number of tests\n",
        "    country_try_count = {country:country_try_count[country]/country_test_count[country] for country in country_try_count}\n",
        "    # Computes overal average try count\n",
        "    avg_tries = sum(country_try_count.values())/len(country_try_count)\n",
        "\n",
        "    # Either returns or prints the results\n",
        "    if print_output:\n",
        "        for country, try_count in sorted(country_try_count.items(), key=lambda item: item[1]):\n",
        "            print(country, f\"{try_count:.1f} tries\", f\"({country_test_count[country]} tests)\")\n",
        "        print(\"Average number of tries:\", avg_tries)\n",
        "    else:\n",
        "        return avg_tries, country_try_count, country_test_count"
      ]
    },
    {
      "cell_type": "code",
      "execution_count": null,
      "metadata": {
        "id": "RysLSj1XU9U4"
      },
      "outputs": [],
      "source": [
        "from sklearn.model_selection import train_test_split\n",
        "from sklearn.metrics import accuracy_score\n",
        "from imblearn.under_sampling import RandomUnderSampler\n",
        "import numpy as np\n",
        "import random\n",
        "\n",
        "def average_performance(model, X_dataset, y_dataset = y, random_states=10, undersampling=False, scrambling=False):\n",
        "    \"\"\"\n",
        "    Takes the model, dataset, and number of random test splits to test.\n",
        "    Prints average accuracy and tries between all test splits of the model.\n",
        "    \"\"\"\n",
        "    accuracies = []\n",
        "    tries = []\n",
        "    avg_country_try_count = {c:0 for c in country_set}\n",
        "    total_country_test_count = {c:0 for c in country_set}\n",
        "    avg_most_probable_country = {c:Counter({c:0 for c in country_set}) for c in country_set}\n",
        "\n",
        "    if scrambling:\n",
        "        random.seed = 3\n",
        "        y_scrambled = y_dataset.tolist()\n",
        "        random.shuffle(y_scrambled)\n",
        "        y_dataset = pd.Series(y_scrambled)\n",
        "\n",
        "    # trains models on the specified number of random splits\n",
        "    for r in range(random_states):\n",
        "        X_train, X_test, y_train, y_test = train_test_split(X_dataset, y_dataset, test_size=0.2, random_state=r)\n",
        "        # undersampling\n",
        "        if undersampling:\n",
        "            X_train, y_train = RandomUnderSampler(random_state=3).fit_resample(X_train, y_train)\n",
        "        model.fit(X_train, y_train)\n",
        "        # computes accuracies\n",
        "        y_pred = model.predict(X_test)\n",
        "        accuracies.append(accuracy_score(y_test, y_pred))\n",
        "        # computes overall and country try counts\n",
        "        avg_tries, country_try_count, country_test_count = average_tries(model, X_test, y_test)\n",
        "        tries.append(avg_tries)\n",
        "        # computes similar countries\n",
        "        most_probable_country = probability_breakdown(model, X_test, y_test)\n",
        "        for country in country_try_count:\n",
        "            avg_country_try_count[country] += country_try_count[country]\n",
        "            total_country_test_count[country] += country_test_count[country]\n",
        "            avg_most_probable_country[country] += most_probable_country[country]\n",
        "        print(\".\",end=\" \")\n",
        "    print()\n",
        "\n",
        "    print(\"Average Accuracy:\", np.mean(accuracies))\n",
        "    print(\"Averaged Average tries:\", np.mean(tries))\n",
        "    # Sorts country try counts and prints them in order\n",
        "    avg_country_try_count = {country:avg_country_try_count[country]/(random_states) for country in avg_country_try_count}\n",
        "    for country, try_count in sorted(avg_country_try_count.items(), key=lambda item: item[1]):\n",
        "        most_similar_five = \" \".join([country for country, _ in avg_most_probable_country[country].most_common(5)])\n",
        "        print(f\"{country}: {try_count:4.1f} tries\", f\"({total_country_test_count[country]:3d} tests) | {most_similar_five}\")"
      ]
    },
    {
      "cell_type": "code",
      "execution_count": null,
      "metadata": {
        "colab": {
          "base_uri": "https://localhost:8080/"
        },
        "id": "2Tl_TGjFU9U4",
        "outputId": "48d7ec9e-7dad-47fd-ef8b-061ea7223864"
      },
      "outputs": [
        {
          "name": "stderr",
          "output_type": "stream",
          "text": [
            "/usr/local/lib/python3.10/dist-packages/sklearn/linear_model/_logistic.py:469: ConvergenceWarning: lbfgs failed to converge (status=1):\n",
            "STOP: TOTAL NO. of ITERATIONS REACHED LIMIT.\n",
            "\n",
            "Increase the number of iterations (max_iter) or scale the data as shown in:\n",
            "    https://scikit-learn.org/stable/modules/preprocessing.html\n",
            "Please also refer to the documentation for alternative solver options:\n",
            "    https://scikit-learn.org/stable/modules/linear_model.html#logistic-regression\n",
            "  n_iter_i = _check_optimize_result(\n"
          ]
        },
        {
          "name": "stdout",
          "output_type": "stream",
          "text": [
            ". "
          ]
        },
        {
          "name": "stderr",
          "output_type": "stream",
          "text": [
            "/usr/local/lib/python3.10/dist-packages/sklearn/linear_model/_logistic.py:469: ConvergenceWarning: lbfgs failed to converge (status=1):\n",
            "STOP: TOTAL NO. of ITERATIONS REACHED LIMIT.\n",
            "\n",
            "Increase the number of iterations (max_iter) or scale the data as shown in:\n",
            "    https://scikit-learn.org/stable/modules/preprocessing.html\n",
            "Please also refer to the documentation for alternative solver options:\n",
            "    https://scikit-learn.org/stable/modules/linear_model.html#logistic-regression\n",
            "  n_iter_i = _check_optimize_result(\n"
          ]
        },
        {
          "name": "stdout",
          "output_type": "stream",
          "text": [
            ". "
          ]
        },
        {
          "name": "stderr",
          "output_type": "stream",
          "text": [
            "/usr/local/lib/python3.10/dist-packages/sklearn/linear_model/_logistic.py:469: ConvergenceWarning: lbfgs failed to converge (status=1):\n",
            "STOP: TOTAL NO. of ITERATIONS REACHED LIMIT.\n",
            "\n",
            "Increase the number of iterations (max_iter) or scale the data as shown in:\n",
            "    https://scikit-learn.org/stable/modules/preprocessing.html\n",
            "Please also refer to the documentation for alternative solver options:\n",
            "    https://scikit-learn.org/stable/modules/linear_model.html#logistic-regression\n",
            "  n_iter_i = _check_optimize_result(\n"
          ]
        },
        {
          "name": "stdout",
          "output_type": "stream",
          "text": [
            ". "
          ]
        },
        {
          "name": "stderr",
          "output_type": "stream",
          "text": [
            "/usr/local/lib/python3.10/dist-packages/sklearn/linear_model/_logistic.py:469: ConvergenceWarning: lbfgs failed to converge (status=1):\n",
            "STOP: TOTAL NO. of ITERATIONS REACHED LIMIT.\n",
            "\n",
            "Increase the number of iterations (max_iter) or scale the data as shown in:\n",
            "    https://scikit-learn.org/stable/modules/preprocessing.html\n",
            "Please also refer to the documentation for alternative solver options:\n",
            "    https://scikit-learn.org/stable/modules/linear_model.html#logistic-regression\n",
            "  n_iter_i = _check_optimize_result(\n"
          ]
        },
        {
          "name": "stdout",
          "output_type": "stream",
          "text": [
            ". "
          ]
        },
        {
          "name": "stderr",
          "output_type": "stream",
          "text": [
            "/usr/local/lib/python3.10/dist-packages/sklearn/linear_model/_logistic.py:469: ConvergenceWarning: lbfgs failed to converge (status=1):\n",
            "STOP: TOTAL NO. of ITERATIONS REACHED LIMIT.\n",
            "\n",
            "Increase the number of iterations (max_iter) or scale the data as shown in:\n",
            "    https://scikit-learn.org/stable/modules/preprocessing.html\n",
            "Please also refer to the documentation for alternative solver options:\n",
            "    https://scikit-learn.org/stable/modules/linear_model.html#logistic-regression\n",
            "  n_iter_i = _check_optimize_result(\n"
          ]
        },
        {
          "name": "stdout",
          "output_type": "stream",
          "text": [
            ". "
          ]
        },
        {
          "name": "stderr",
          "output_type": "stream",
          "text": [
            "/usr/local/lib/python3.10/dist-packages/sklearn/linear_model/_logistic.py:469: ConvergenceWarning: lbfgs failed to converge (status=1):\n",
            "STOP: TOTAL NO. of ITERATIONS REACHED LIMIT.\n",
            "\n",
            "Increase the number of iterations (max_iter) or scale the data as shown in:\n",
            "    https://scikit-learn.org/stable/modules/preprocessing.html\n",
            "Please also refer to the documentation for alternative solver options:\n",
            "    https://scikit-learn.org/stable/modules/linear_model.html#logistic-regression\n",
            "  n_iter_i = _check_optimize_result(\n"
          ]
        },
        {
          "name": "stdout",
          "output_type": "stream",
          "text": [
            ". "
          ]
        },
        {
          "name": "stderr",
          "output_type": "stream",
          "text": [
            "/usr/local/lib/python3.10/dist-packages/sklearn/linear_model/_logistic.py:469: ConvergenceWarning: lbfgs failed to converge (status=1):\n",
            "STOP: TOTAL NO. of ITERATIONS REACHED LIMIT.\n",
            "\n",
            "Increase the number of iterations (max_iter) or scale the data as shown in:\n",
            "    https://scikit-learn.org/stable/modules/preprocessing.html\n",
            "Please also refer to the documentation for alternative solver options:\n",
            "    https://scikit-learn.org/stable/modules/linear_model.html#logistic-regression\n",
            "  n_iter_i = _check_optimize_result(\n"
          ]
        },
        {
          "name": "stdout",
          "output_type": "stream",
          "text": [
            ". "
          ]
        },
        {
          "name": "stderr",
          "output_type": "stream",
          "text": [
            "/usr/local/lib/python3.10/dist-packages/sklearn/linear_model/_logistic.py:469: ConvergenceWarning: lbfgs failed to converge (status=1):\n",
            "STOP: TOTAL NO. of ITERATIONS REACHED LIMIT.\n",
            "\n",
            "Increase the number of iterations (max_iter) or scale the data as shown in:\n",
            "    https://scikit-learn.org/stable/modules/preprocessing.html\n",
            "Please also refer to the documentation for alternative solver options:\n",
            "    https://scikit-learn.org/stable/modules/linear_model.html#logistic-regression\n",
            "  n_iter_i = _check_optimize_result(\n"
          ]
        },
        {
          "name": "stdout",
          "output_type": "stream",
          "text": [
            ". "
          ]
        },
        {
          "name": "stderr",
          "output_type": "stream",
          "text": [
            "/usr/local/lib/python3.10/dist-packages/sklearn/linear_model/_logistic.py:469: ConvergenceWarning: lbfgs failed to converge (status=1):\n",
            "STOP: TOTAL NO. of ITERATIONS REACHED LIMIT.\n",
            "\n",
            "Increase the number of iterations (max_iter) or scale the data as shown in:\n",
            "    https://scikit-learn.org/stable/modules/preprocessing.html\n",
            "Please also refer to the documentation for alternative solver options:\n",
            "    https://scikit-learn.org/stable/modules/linear_model.html#logistic-regression\n",
            "  n_iter_i = _check_optimize_result(\n"
          ]
        },
        {
          "name": "stdout",
          "output_type": "stream",
          "text": [
            ". "
          ]
        },
        {
          "name": "stderr",
          "output_type": "stream",
          "text": [
            "/usr/local/lib/python3.10/dist-packages/sklearn/linear_model/_logistic.py:469: ConvergenceWarning: lbfgs failed to converge (status=1):\n",
            "STOP: TOTAL NO. of ITERATIONS REACHED LIMIT.\n",
            "\n",
            "Increase the number of iterations (max_iter) or scale the data as shown in:\n",
            "    https://scikit-learn.org/stable/modules/preprocessing.html\n",
            "Please also refer to the documentation for alternative solver options:\n",
            "    https://scikit-learn.org/stable/modules/linear_model.html#logistic-regression\n",
            "  n_iter_i = _check_optimize_result(\n"
          ]
        },
        {
          "name": "stdout",
          "output_type": "stream",
          "text": [
            ". \n",
            "Average Accuracy: 0.08424242424242424\n",
            "Averaged Average tries: 9.408149052768083\n",
            "GB:  4.5 tries (683 tests) | GB US CA AU NZ\n",
            "US:  4.6 tries (656 tests) | US CA GB AU MY\n",
            "AU:  5.5 tries (257 tests) | AU US NZ GB IE\n",
            "CA:  6.0 tries (242 tests) | GB CA NZ US AU\n",
            "IE:  7.0 tries (170 tests) | US CA IE NZ TZ\n",
            "IN:  7.2 tries (159 tests) | PK IN SG GB US\n",
            "NZ:  7.7 tries (149 tests) | IN LK GB SG ZA\n",
            "PK:  8.6 tries ( 97 tests) | PK NG US CA PH\n",
            "GH:  9.7 tries ( 78 tests) | GH NZ ZA TZ MY\n",
            "MY: 10.2 tries ( 69 tests) | US SG MY GB GH\n",
            "SG: 10.3 tries ( 72 tests) | GH SG BD NZ IN\n",
            "LK: 10.6 tries ( 61 tests) | JM GB IN IE ZA\n",
            "NG: 10.9 tries ( 71 tests) | HK BD GH AU LK\n",
            "PH: 11.3 tries ( 75 tests) | TZ IE CA HK KE\n",
            "TZ: 11.3 tries ( 59 tests) | GH NG NZ GB AU\n",
            "KE: 11.5 tries ( 77 tests) | KE MY US ZA LK\n",
            "HK: 12.2 tries ( 89 tests) | IE IN KE SG NZ\n",
            "ZA: 12.2 tries ( 79 tests) | NG MY US CA IN\n",
            "BD: 12.4 tries ( 70 tests) | NG IN MY IE LK\n",
            "JM: 14.4 tries ( 87 tests) | NZ CA PH GB LK\n"
          ]
        },
        {
          "name": "stderr",
          "output_type": "stream",
          "text": [
            "/usr/local/lib/python3.10/dist-packages/sklearn/linear_model/_logistic.py:469: ConvergenceWarning: lbfgs failed to converge (status=1):\n",
            "STOP: TOTAL NO. of ITERATIONS REACHED LIMIT.\n",
            "\n",
            "Increase the number of iterations (max_iter) or scale the data as shown in:\n",
            "    https://scikit-learn.org/stable/modules/preprocessing.html\n",
            "Please also refer to the documentation for alternative solver options:\n",
            "    https://scikit-learn.org/stable/modules/linear_model.html#logistic-regression\n",
            "  n_iter_i = _check_optimize_result(\n"
          ]
        },
        {
          "name": "stdout",
          "output_type": "stream",
          "text": [
            ". "
          ]
        },
        {
          "name": "stderr",
          "output_type": "stream",
          "text": [
            "/usr/local/lib/python3.10/dist-packages/sklearn/linear_model/_logistic.py:469: ConvergenceWarning: lbfgs failed to converge (status=1):\n",
            "STOP: TOTAL NO. of ITERATIONS REACHED LIMIT.\n",
            "\n",
            "Increase the number of iterations (max_iter) or scale the data as shown in:\n",
            "    https://scikit-learn.org/stable/modules/preprocessing.html\n",
            "Please also refer to the documentation for alternative solver options:\n",
            "    https://scikit-learn.org/stable/modules/linear_model.html#logistic-regression\n",
            "  n_iter_i = _check_optimize_result(\n"
          ]
        },
        {
          "name": "stdout",
          "output_type": "stream",
          "text": [
            ". "
          ]
        },
        {
          "name": "stderr",
          "output_type": "stream",
          "text": [
            "/usr/local/lib/python3.10/dist-packages/sklearn/linear_model/_logistic.py:469: ConvergenceWarning: lbfgs failed to converge (status=1):\n",
            "STOP: TOTAL NO. of ITERATIONS REACHED LIMIT.\n",
            "\n",
            "Increase the number of iterations (max_iter) or scale the data as shown in:\n",
            "    https://scikit-learn.org/stable/modules/preprocessing.html\n",
            "Please also refer to the documentation for alternative solver options:\n",
            "    https://scikit-learn.org/stable/modules/linear_model.html#logistic-regression\n",
            "  n_iter_i = _check_optimize_result(\n"
          ]
        },
        {
          "name": "stdout",
          "output_type": "stream",
          "text": [
            ". "
          ]
        },
        {
          "name": "stderr",
          "output_type": "stream",
          "text": [
            "/usr/local/lib/python3.10/dist-packages/sklearn/linear_model/_logistic.py:469: ConvergenceWarning: lbfgs failed to converge (status=1):\n",
            "STOP: TOTAL NO. of ITERATIONS REACHED LIMIT.\n",
            "\n",
            "Increase the number of iterations (max_iter) or scale the data as shown in:\n",
            "    https://scikit-learn.org/stable/modules/preprocessing.html\n",
            "Please also refer to the documentation for alternative solver options:\n",
            "    https://scikit-learn.org/stable/modules/linear_model.html#logistic-regression\n",
            "  n_iter_i = _check_optimize_result(\n"
          ]
        },
        {
          "name": "stdout",
          "output_type": "stream",
          "text": [
            ". "
          ]
        },
        {
          "name": "stderr",
          "output_type": "stream",
          "text": [
            "/usr/local/lib/python3.10/dist-packages/sklearn/linear_model/_logistic.py:469: ConvergenceWarning: lbfgs failed to converge (status=1):\n",
            "STOP: TOTAL NO. of ITERATIONS REACHED LIMIT.\n",
            "\n",
            "Increase the number of iterations (max_iter) or scale the data as shown in:\n",
            "    https://scikit-learn.org/stable/modules/preprocessing.html\n",
            "Please also refer to the documentation for alternative solver options:\n",
            "    https://scikit-learn.org/stable/modules/linear_model.html#logistic-regression\n",
            "  n_iter_i = _check_optimize_result(\n"
          ]
        },
        {
          "name": "stdout",
          "output_type": "stream",
          "text": [
            ". "
          ]
        },
        {
          "name": "stderr",
          "output_type": "stream",
          "text": [
            "/usr/local/lib/python3.10/dist-packages/sklearn/linear_model/_logistic.py:469: ConvergenceWarning: lbfgs failed to converge (status=1):\n",
            "STOP: TOTAL NO. of ITERATIONS REACHED LIMIT.\n",
            "\n",
            "Increase the number of iterations (max_iter) or scale the data as shown in:\n",
            "    https://scikit-learn.org/stable/modules/preprocessing.html\n",
            "Please also refer to the documentation for alternative solver options:\n",
            "    https://scikit-learn.org/stable/modules/linear_model.html#logistic-regression\n",
            "  n_iter_i = _check_optimize_result(\n"
          ]
        },
        {
          "name": "stdout",
          "output_type": "stream",
          "text": [
            ". "
          ]
        },
        {
          "name": "stderr",
          "output_type": "stream",
          "text": [
            "/usr/local/lib/python3.10/dist-packages/sklearn/linear_model/_logistic.py:469: ConvergenceWarning: lbfgs failed to converge (status=1):\n",
            "STOP: TOTAL NO. of ITERATIONS REACHED LIMIT.\n",
            "\n",
            "Increase the number of iterations (max_iter) or scale the data as shown in:\n",
            "    https://scikit-learn.org/stable/modules/preprocessing.html\n",
            "Please also refer to the documentation for alternative solver options:\n",
            "    https://scikit-learn.org/stable/modules/linear_model.html#logistic-regression\n",
            "  n_iter_i = _check_optimize_result(\n"
          ]
        },
        {
          "name": "stdout",
          "output_type": "stream",
          "text": [
            ". "
          ]
        },
        {
          "name": "stderr",
          "output_type": "stream",
          "text": [
            "/usr/local/lib/python3.10/dist-packages/sklearn/linear_model/_logistic.py:469: ConvergenceWarning: lbfgs failed to converge (status=1):\n",
            "STOP: TOTAL NO. of ITERATIONS REACHED LIMIT.\n",
            "\n",
            "Increase the number of iterations (max_iter) or scale the data as shown in:\n",
            "    https://scikit-learn.org/stable/modules/preprocessing.html\n",
            "Please also refer to the documentation for alternative solver options:\n",
            "    https://scikit-learn.org/stable/modules/linear_model.html#logistic-regression\n",
            "  n_iter_i = _check_optimize_result(\n"
          ]
        },
        {
          "name": "stdout",
          "output_type": "stream",
          "text": [
            ". "
          ]
        },
        {
          "name": "stderr",
          "output_type": "stream",
          "text": [
            "/usr/local/lib/python3.10/dist-packages/sklearn/linear_model/_logistic.py:469: ConvergenceWarning: lbfgs failed to converge (status=1):\n",
            "STOP: TOTAL NO. of ITERATIONS REACHED LIMIT.\n",
            "\n",
            "Increase the number of iterations (max_iter) or scale the data as shown in:\n",
            "    https://scikit-learn.org/stable/modules/preprocessing.html\n",
            "Please also refer to the documentation for alternative solver options:\n",
            "    https://scikit-learn.org/stable/modules/linear_model.html#logistic-regression\n",
            "  n_iter_i = _check_optimize_result(\n"
          ]
        },
        {
          "name": "stdout",
          "output_type": "stream",
          "text": [
            ". "
          ]
        },
        {
          "name": "stderr",
          "output_type": "stream",
          "text": [
            "/usr/local/lib/python3.10/dist-packages/sklearn/linear_model/_logistic.py:469: ConvergenceWarning: lbfgs failed to converge (status=1):\n",
            "STOP: TOTAL NO. of ITERATIONS REACHED LIMIT.\n",
            "\n",
            "Increase the number of iterations (max_iter) or scale the data as shown in:\n",
            "    https://scikit-learn.org/stable/modules/preprocessing.html\n",
            "Please also refer to the documentation for alternative solver options:\n",
            "    https://scikit-learn.org/stable/modules/linear_model.html#logistic-regression\n",
            "  n_iter_i = _check_optimize_result(\n"
          ]
        },
        {
          "name": "stdout",
          "output_type": "stream",
          "text": [
            ". \n",
            "Average Accuracy: 0.08393939393939395\n",
            "Averaged Average tries: 9.401179116513251\n",
            "GB:  4.5 tries (683 tests) | GB US CA AU NZ\n",
            "US:  4.6 tries (656 tests) | US CA GB AU MY\n",
            "AU:  5.5 tries (257 tests) | AU US NZ GB IE\n",
            "CA:  6.0 tries (242 tests) | GB CA NZ US AU\n",
            "IE:  7.0 tries (170 tests) | US CA IE NZ TZ\n",
            "IN:  7.2 tries (159 tests) | PK IN SG GB US\n",
            "NZ:  7.7 tries (149 tests) | IN LK US SG ZA\n",
            "PK:  8.6 tries ( 97 tests) | PK NG US CA SG\n",
            "GH:  9.7 tries ( 78 tests) | GH NZ ZA TZ MY\n",
            "MY: 10.2 tries ( 69 tests) | US SG MY GB GH\n",
            "SG: 10.3 tries ( 72 tests) | GH SG BD NZ AU\n",
            "LK: 10.5 tries ( 61 tests) | JM GB IE IN ZA\n",
            "NG: 10.9 tries ( 71 tests) | HK BD GH AU LK\n",
            "PH: 11.2 tries ( 75 tests) | TZ IE CA HK KE\n",
            "TZ: 11.3 tries ( 59 tests) | GH NG GB NZ LK\n",
            "KE: 11.5 tries ( 77 tests) | KE MY US ZA LK\n",
            "HK: 12.2 tries ( 89 tests) | IE IN KE SG PK\n",
            "ZA: 12.2 tries ( 79 tests) | NG MY US CA IN\n",
            "BD: 12.4 tries ( 70 tests) | NG IN MY IE LK\n",
            "JM: 14.4 tries ( 87 tests) | NZ CA PH LK GB\n"
          ]
        },
        {
          "name": "stderr",
          "output_type": "stream",
          "text": [
            "/usr/local/lib/python3.10/dist-packages/sklearn/linear_model/_logistic.py:469: ConvergenceWarning: lbfgs failed to converge (status=1):\n",
            "STOP: TOTAL NO. of ITERATIONS REACHED LIMIT.\n",
            "\n",
            "Increase the number of iterations (max_iter) or scale the data as shown in:\n",
            "    https://scikit-learn.org/stable/modules/preprocessing.html\n",
            "Please also refer to the documentation for alternative solver options:\n",
            "    https://scikit-learn.org/stable/modules/linear_model.html#logistic-regression\n",
            "  n_iter_i = _check_optimize_result(\n"
          ]
        },
        {
          "name": "stdout",
          "output_type": "stream",
          "text": [
            ". "
          ]
        },
        {
          "name": "stderr",
          "output_type": "stream",
          "text": [
            "/usr/local/lib/python3.10/dist-packages/sklearn/linear_model/_logistic.py:469: ConvergenceWarning: lbfgs failed to converge (status=1):\n",
            "STOP: TOTAL NO. of ITERATIONS REACHED LIMIT.\n",
            "\n",
            "Increase the number of iterations (max_iter) or scale the data as shown in:\n",
            "    https://scikit-learn.org/stable/modules/preprocessing.html\n",
            "Please also refer to the documentation for alternative solver options:\n",
            "    https://scikit-learn.org/stable/modules/linear_model.html#logistic-regression\n",
            "  n_iter_i = _check_optimize_result(\n"
          ]
        },
        {
          "name": "stdout",
          "output_type": "stream",
          "text": [
            ". "
          ]
        },
        {
          "name": "stderr",
          "output_type": "stream",
          "text": [
            "/usr/local/lib/python3.10/dist-packages/sklearn/linear_model/_logistic.py:469: ConvergenceWarning: lbfgs failed to converge (status=1):\n",
            "STOP: TOTAL NO. of ITERATIONS REACHED LIMIT.\n",
            "\n",
            "Increase the number of iterations (max_iter) or scale the data as shown in:\n",
            "    https://scikit-learn.org/stable/modules/preprocessing.html\n",
            "Please also refer to the documentation for alternative solver options:\n",
            "    https://scikit-learn.org/stable/modules/linear_model.html#logistic-regression\n",
            "  n_iter_i = _check_optimize_result(\n"
          ]
        },
        {
          "name": "stdout",
          "output_type": "stream",
          "text": [
            ". "
          ]
        },
        {
          "name": "stderr",
          "output_type": "stream",
          "text": [
            "/usr/local/lib/python3.10/dist-packages/sklearn/linear_model/_logistic.py:469: ConvergenceWarning: lbfgs failed to converge (status=1):\n",
            "STOP: TOTAL NO. of ITERATIONS REACHED LIMIT.\n",
            "\n",
            "Increase the number of iterations (max_iter) or scale the data as shown in:\n",
            "    https://scikit-learn.org/stable/modules/preprocessing.html\n",
            "Please also refer to the documentation for alternative solver options:\n",
            "    https://scikit-learn.org/stable/modules/linear_model.html#logistic-regression\n",
            "  n_iter_i = _check_optimize_result(\n"
          ]
        },
        {
          "name": "stdout",
          "output_type": "stream",
          "text": [
            ". "
          ]
        },
        {
          "name": "stderr",
          "output_type": "stream",
          "text": [
            "/usr/local/lib/python3.10/dist-packages/sklearn/linear_model/_logistic.py:469: ConvergenceWarning: lbfgs failed to converge (status=1):\n",
            "STOP: TOTAL NO. of ITERATIONS REACHED LIMIT.\n",
            "\n",
            "Increase the number of iterations (max_iter) or scale the data as shown in:\n",
            "    https://scikit-learn.org/stable/modules/preprocessing.html\n",
            "Please also refer to the documentation for alternative solver options:\n",
            "    https://scikit-learn.org/stable/modules/linear_model.html#logistic-regression\n",
            "  n_iter_i = _check_optimize_result(\n"
          ]
        },
        {
          "name": "stdout",
          "output_type": "stream",
          "text": [
            ". "
          ]
        },
        {
          "name": "stderr",
          "output_type": "stream",
          "text": [
            "/usr/local/lib/python3.10/dist-packages/sklearn/linear_model/_logistic.py:469: ConvergenceWarning: lbfgs failed to converge (status=1):\n",
            "STOP: TOTAL NO. of ITERATIONS REACHED LIMIT.\n",
            "\n",
            "Increase the number of iterations (max_iter) or scale the data as shown in:\n",
            "    https://scikit-learn.org/stable/modules/preprocessing.html\n",
            "Please also refer to the documentation for alternative solver options:\n",
            "    https://scikit-learn.org/stable/modules/linear_model.html#logistic-regression\n",
            "  n_iter_i = _check_optimize_result(\n"
          ]
        },
        {
          "name": "stdout",
          "output_type": "stream",
          "text": [
            ". "
          ]
        },
        {
          "name": "stderr",
          "output_type": "stream",
          "text": [
            "/usr/local/lib/python3.10/dist-packages/sklearn/linear_model/_logistic.py:469: ConvergenceWarning: lbfgs failed to converge (status=1):\n",
            "STOP: TOTAL NO. of ITERATIONS REACHED LIMIT.\n",
            "\n",
            "Increase the number of iterations (max_iter) or scale the data as shown in:\n",
            "    https://scikit-learn.org/stable/modules/preprocessing.html\n",
            "Please also refer to the documentation for alternative solver options:\n",
            "    https://scikit-learn.org/stable/modules/linear_model.html#logistic-regression\n",
            "  n_iter_i = _check_optimize_result(\n"
          ]
        },
        {
          "name": "stdout",
          "output_type": "stream",
          "text": [
            ". "
          ]
        },
        {
          "name": "stderr",
          "output_type": "stream",
          "text": [
            "/usr/local/lib/python3.10/dist-packages/sklearn/linear_model/_logistic.py:469: ConvergenceWarning: lbfgs failed to converge (status=1):\n",
            "STOP: TOTAL NO. of ITERATIONS REACHED LIMIT.\n",
            "\n",
            "Increase the number of iterations (max_iter) or scale the data as shown in:\n",
            "    https://scikit-learn.org/stable/modules/preprocessing.html\n",
            "Please also refer to the documentation for alternative solver options:\n",
            "    https://scikit-learn.org/stable/modules/linear_model.html#logistic-regression\n",
            "  n_iter_i = _check_optimize_result(\n"
          ]
        },
        {
          "name": "stdout",
          "output_type": "stream",
          "text": [
            ". "
          ]
        },
        {
          "name": "stderr",
          "output_type": "stream",
          "text": [
            "/usr/local/lib/python3.10/dist-packages/sklearn/linear_model/_logistic.py:469: ConvergenceWarning: lbfgs failed to converge (status=1):\n",
            "STOP: TOTAL NO. of ITERATIONS REACHED LIMIT.\n",
            "\n",
            "Increase the number of iterations (max_iter) or scale the data as shown in:\n",
            "    https://scikit-learn.org/stable/modules/preprocessing.html\n",
            "Please also refer to the documentation for alternative solver options:\n",
            "    https://scikit-learn.org/stable/modules/linear_model.html#logistic-regression\n",
            "  n_iter_i = _check_optimize_result(\n"
          ]
        },
        {
          "name": "stdout",
          "output_type": "stream",
          "text": [
            ". . \n",
            "Average Accuracy: 0.08666666666666667\n",
            "Averaged Average tries: 9.400026712136068\n",
            "GB:  4.5 tries (683 tests) | GB US CA AU NZ\n",
            "US:  4.6 tries (656 tests) | US CA GB AU MY\n",
            "AU:  5.5 tries (257 tests) | AU US NZ GB IE\n",
            "CA:  6.0 tries (242 tests) | GB CA NZ US IN\n",
            "IE:  7.0 tries (170 tests) | US CA IE TZ NZ\n",
            "IN:  7.2 tries (159 tests) | PK IN SG GB JM\n",
            "NZ:  7.9 tries (149 tests) | LK IN US SG ZA\n",
            "PK:  8.5 tries ( 97 tests) | PK NG US CA PH\n",
            "GH:  9.7 tries ( 78 tests) | GH TZ NZ ZA MY\n",
            "MY: 10.3 tries ( 69 tests) | US SG MY GB GH\n",
            "SG: 10.3 tries ( 72 tests) | GH SG BD NZ IN\n",
            "LK: 10.4 tries ( 61 tests) | JM GB IE IN MY\n",
            "NG: 10.9 tries ( 71 tests) | HK BD GH AU LK\n",
            "PH: 11.2 tries ( 75 tests) | TZ IE CA HK KE\n",
            "TZ: 11.3 tries ( 59 tests) | GH NG NZ GB KE\n",
            "KE: 11.4 tries ( 77 tests) | KE MY US ZA LK\n",
            "HK: 12.2 tries ( 89 tests) | IE IN KE SG NZ\n",
            "ZA: 12.3 tries ( 79 tests) | NG MY US CA IN\n",
            "BD: 12.3 tries ( 70 tests) | NG IN MY IE LK\n",
            "JM: 14.3 tries ( 87 tests) | NZ CA PH LK GB\n"
          ]
        },
        {
          "name": "stderr",
          "output_type": "stream",
          "text": [
            "/usr/local/lib/python3.10/dist-packages/sklearn/linear_model/_logistic.py:469: ConvergenceWarning: lbfgs failed to converge (status=1):\n",
            "STOP: TOTAL NO. of ITERATIONS REACHED LIMIT.\n",
            "\n",
            "Increase the number of iterations (max_iter) or scale the data as shown in:\n",
            "    https://scikit-learn.org/stable/modules/preprocessing.html\n",
            "Please also refer to the documentation for alternative solver options:\n",
            "    https://scikit-learn.org/stable/modules/linear_model.html#logistic-regression\n",
            "  n_iter_i = _check_optimize_result(\n"
          ]
        }
      ],
      "source": [
        "from sklearn.linear_model import LogisticRegression\n",
        "\n",
        "# Logistic Regression model with class weights balanced\n",
        "model = LogisticRegression(max_iter=2000, class_weight='balanced')\n",
        "average_performance(model, X)\n",
        "average_performance(model, X_25)\n",
        "average_performance(model, X_50)"
      ]
    },
    {
      "cell_type": "code",
      "execution_count": null,
      "metadata": {
        "colab": {
          "base_uri": "https://localhost:8080/"
        },
        "id": "NdFSjNOZU9U5",
        "outputId": "25083d26-019b-4734-bca7-b620152ad89a"
      },
      "outputs": [
        {
          "name": "stdout",
          "output_type": "stream",
          "text": [
            ". . . . . . . . . . \n",
            "Average Accuracy: 0.21606060606060606\n",
            "Averaged Average tries: 9.855607542926899\n",
            "GB:  1.5 tries (683 tests) | GB US AU CA IN\n",
            "US:  1.6 tries (656 tests) | US GB AU CA IE\n",
            "AU:  4.4 tries (257 tests) | US GB AU CA IE\n",
            "CA:  5.6 tries (242 tests) | US GB AU CA IE\n",
            "IN:  6.8 tries (159 tests) | GB US AU IN CA\n",
            "IE:  6.9 tries (170 tests) | GB US AU CA IE\n",
            "NZ:  8.9 tries (149 tests) | GB US AU CA IE\n",
            "PK: 10.7 tries ( 97 tests) | GB US AU CA PK\n",
            "GH: 10.9 tries ( 78 tests) | GB US AU CA NZ\n",
            "LK: 11.4 tries ( 61 tests) | GB US AU CA IE\n",
            "ZA: 12.1 tries ( 79 tests) | GB US AU CA IE\n",
            "HK: 12.4 tries ( 89 tests) | US GB AU CA IE\n",
            "BD: 12.4 tries ( 70 tests) | GB US AU CA IN\n",
            "KE: 12.4 tries ( 77 tests) | US GB AU CA IE\n",
            "SG: 12.7 tries ( 72 tests) | GB US AU CA IE\n",
            "JM: 12.8 tries ( 87 tests) | GB US AU CA IE\n",
            "PH: 12.8 tries ( 75 tests) | US GB AU CA IE\n",
            "NG: 13.0 tries ( 71 tests) | GB US AU CA IN\n",
            "MY: 13.6 tries ( 69 tests) | GB US CA AU IE\n",
            "TZ: 14.0 tries ( 59 tests) | GB US AU CA IE\n",
            ". . . . . . . . . . \n",
            "Average Accuracy: 0.21151515151515152\n",
            "Averaged Average tries: 9.616428044699145\n",
            "GB:  1.5 tries (683 tests) | GB US AU CA IN\n",
            "US:  1.6 tries (656 tests) | US GB AU CA IN\n",
            "AU:  4.5 tries (257 tests) | US GB AU CA IE\n",
            "CA:  5.4 tries (242 tests) | US GB AU CA IE\n",
            "IN:  6.9 tries (159 tests) | GB US AU IN CA\n",
            "IE:  7.2 tries (170 tests) | GB US AU CA IE\n",
            "NZ:  8.9 tries (149 tests) | GB US AU CA IE\n",
            "LK:  9.5 tries ( 61 tests) | GB US AU CA IE\n",
            "GH: 10.4 tries ( 78 tests) | US GB AU CA IE\n",
            "PK: 10.5 tries ( 97 tests) | GB US AU CA PK\n",
            "KE: 11.5 tries ( 77 tests) | GB US AU CA IN\n",
            "JM: 11.6 tries ( 87 tests) | GB US AU CA IE\n",
            "BD: 11.9 tries ( 70 tests) | US GB AU CA IN\n",
            "HK: 12.1 tries ( 89 tests) | GB US AU CA IE\n",
            "MY: 12.4 tries ( 69 tests) | US GB AU CA IE\n",
            "NG: 12.5 tries ( 71 tests) | US GB AU CA IN\n",
            "SG: 12.5 tries ( 72 tests) | GB US AU CA IE\n",
            "PH: 13.3 tries ( 75 tests) | US GB AU CA IN\n",
            "ZA: 13.9 tries ( 79 tests) | GB US AU CA IN\n",
            "TZ: 14.0 tries ( 59 tests) | US GB AU CA IE\n",
            ". . . . . . . . . . \n",
            "Average Accuracy: 0.21606060606060606\n",
            "Averaged Average tries: 9.631197187305117\n",
            "GB:  1.5 tries (683 tests) | GB US AU CA IN\n",
            "US:  1.6 tries (656 tests) | US GB AU CA IN\n",
            "AU:  4.6 tries (257 tests) | US GB AU CA IN\n",
            "CA:  5.1 tries (242 tests) | US GB AU CA IE\n",
            "IE:  6.6 tries (170 tests) | US GB AU CA IE\n",
            "IN:  6.7 tries (159 tests) | GB US AU IN CA\n",
            "NZ:  9.0 tries (149 tests) | GB US AU CA IE\n",
            "GH: 10.3 tries ( 78 tests) | GB US AU CA IE\n",
            "PK: 10.4 tries ( 97 tests) | GB US AU PK CA\n",
            "LK: 11.3 tries ( 61 tests) | GB US AU CA IE\n",
            "SG: 11.6 tries ( 72 tests) | GB US AU CA IE\n",
            "JM: 11.9 tries ( 87 tests) | GB US AU CA IE\n",
            "BD: 12.0 tries ( 70 tests) | GB US AU CA IN\n",
            "HK: 12.1 tries ( 89 tests) | US GB AU CA IE\n",
            "KE: 12.2 tries ( 77 tests) | US GB AU CA IE\n",
            "MY: 12.5 tries ( 69 tests) | US GB CA AU IE\n",
            "NG: 13.0 tries ( 71 tests) | GB US AU CA IN\n",
            "PH: 13.1 tries ( 75 tests) | GB US AU CA IE\n",
            "ZA: 13.2 tries ( 79 tests) | GB US AU CA IE\n",
            "TZ: 14.0 tries ( 59 tests) | US GB AU CA IE\n"
          ]
        }
      ],
      "source": [
        "from sklearn.ensemble import RandomForestClassifier\n",
        "\n",
        "# Random Forest Classifier with class weights balanced\n",
        "rf_model = RandomForestClassifier(random_state=3, class_weight='balanced')\n",
        "average_performance(rf_model, X)\n",
        "average_performance(rf_model, X_25)\n",
        "average_performance(rf_model, X_50)"
      ]
    },
    {
      "cell_type": "code",
      "execution_count": null,
      "metadata": {
        "colab": {
          "base_uri": "https://localhost:8080/"
        },
        "id": "AFcFr2G_U9U5",
        "outputId": "e9169d07-9a60-4c8c-caa3-3cc07aa90614"
      },
      "outputs": [
        {
          "name": "stdout",
          "output_type": "stream",
          "text": [
            "              precision    recall  f1-score   support\n",
            "\n",
            "          AU       0.29      0.10      0.15        20\n",
            "          BD       0.00      0.00      0.00        12\n",
            "          CA       0.00      0.00      0.00        24\n",
            "          GB       0.20      0.68      0.31        68\n",
            "          GH       0.00      0.00      0.00         8\n",
            "          HK       0.00      0.00      0.00         9\n",
            "          IE       0.00      0.00      0.00        13\n",
            "          IN       0.00      0.00      0.00        14\n",
            "          JM       0.00      0.00      0.00         9\n",
            "          KE       0.00      0.00      0.00        11\n",
            "          LK       0.00      0.00      0.00         4\n",
            "          MY       0.00      0.00      0.00         7\n",
            "          NG       0.00      0.00      0.00         6\n",
            "          NZ       0.00      0.00      0.00        14\n",
            "          PH       0.00      0.00      0.00         1\n",
            "          PK       0.67      0.18      0.29        11\n",
            "          SG       0.00      0.00      0.00        12\n",
            "          TZ       0.00      0.00      0.00         5\n",
            "          US       0.28      0.33      0.30        73\n",
            "          ZA       0.00      0.00      0.00         9\n",
            "\n",
            "    accuracy                           0.22       330\n",
            "   macro avg       0.07      0.06      0.05       330\n",
            "weighted avg       0.14      0.22      0.15       330\n",
            "\n"
          ]
        },
        {
          "name": "stderr",
          "output_type": "stream",
          "text": [
            "/usr/local/lib/python3.10/dist-packages/sklearn/metrics/_classification.py:1531: UndefinedMetricWarning: Precision is ill-defined and being set to 0.0 in labels with no predicted samples. Use `zero_division` parameter to control this behavior.\n",
            "  _warn_prf(average, modifier, f\"{metric.capitalize()} is\", len(result))\n",
            "/usr/local/lib/python3.10/dist-packages/sklearn/metrics/_classification.py:1531: UndefinedMetricWarning: Precision is ill-defined and being set to 0.0 in labels with no predicted samples. Use `zero_division` parameter to control this behavior.\n",
            "  _warn_prf(average, modifier, f\"{metric.capitalize()} is\", len(result))\n",
            "/usr/local/lib/python3.10/dist-packages/sklearn/metrics/_classification.py:1531: UndefinedMetricWarning: Precision is ill-defined and being set to 0.0 in labels with no predicted samples. Use `zero_division` parameter to control this behavior.\n",
            "  _warn_prf(average, modifier, f\"{metric.capitalize()} is\", len(result))\n"
          ]
        }
      ],
      "source": [
        "from sklearn.metrics import classification_report\n",
        "X_train, X_test, y_train, y_test = train_test_split(X, y, test_size=0.2, random_state=3)\n",
        "rf_model = RandomForestClassifier(random_state=3, class_weight='balanced')\n",
        "rf_model.fit(X_train, y_train)\n",
        "y_pred = rf_model.predict(X_test)\n",
        "print(classification_report(y_test, y_pred))"
      ]
    },
    {
      "cell_type": "code",
      "execution_count": null,
      "metadata": {
        "colab": {
          "base_uri": "https://localhost:8080/"
        },
        "id": "_x_72WMPU9U6",
        "outputId": "6c40af85-30f9-4349-e12a-f4c8c66380fa"
      },
      "outputs": [
        {
          "name": "stderr",
          "output_type": "stream",
          "text": [
            "/usr/local/lib/python3.10/dist-packages/sklearn/neural_network/_multilayer_perceptron.py:690: ConvergenceWarning: Stochastic Optimizer: Maximum iterations (200) reached and the optimization hasn't converged yet.\n",
            "  warnings.warn(\n"
          ]
        },
        {
          "name": "stdout",
          "output_type": "stream",
          "text": [
            ". "
          ]
        },
        {
          "name": "stderr",
          "output_type": "stream",
          "text": [
            "/usr/local/lib/python3.10/dist-packages/sklearn/neural_network/_multilayer_perceptron.py:690: ConvergenceWarning: Stochastic Optimizer: Maximum iterations (200) reached and the optimization hasn't converged yet.\n",
            "  warnings.warn(\n"
          ]
        },
        {
          "name": "stdout",
          "output_type": "stream",
          "text": [
            ". "
          ]
        },
        {
          "name": "stderr",
          "output_type": "stream",
          "text": [
            "/usr/local/lib/python3.10/dist-packages/sklearn/neural_network/_multilayer_perceptron.py:690: ConvergenceWarning: Stochastic Optimizer: Maximum iterations (200) reached and the optimization hasn't converged yet.\n",
            "  warnings.warn(\n"
          ]
        },
        {
          "name": "stdout",
          "output_type": "stream",
          "text": [
            ". . "
          ]
        },
        {
          "name": "stderr",
          "output_type": "stream",
          "text": [
            "/usr/local/lib/python3.10/dist-packages/sklearn/neural_network/_multilayer_perceptron.py:690: ConvergenceWarning: Stochastic Optimizer: Maximum iterations (200) reached and the optimization hasn't converged yet.\n",
            "  warnings.warn(\n"
          ]
        },
        {
          "name": "stdout",
          "output_type": "stream",
          "text": [
            ". "
          ]
        },
        {
          "name": "stderr",
          "output_type": "stream",
          "text": [
            "/usr/local/lib/python3.10/dist-packages/sklearn/neural_network/_multilayer_perceptron.py:690: ConvergenceWarning: Stochastic Optimizer: Maximum iterations (200) reached and the optimization hasn't converged yet.\n",
            "  warnings.warn(\n"
          ]
        },
        {
          "name": "stdout",
          "output_type": "stream",
          "text": [
            ". "
          ]
        },
        {
          "name": "stderr",
          "output_type": "stream",
          "text": [
            "/usr/local/lib/python3.10/dist-packages/sklearn/neural_network/_multilayer_perceptron.py:690: ConvergenceWarning: Stochastic Optimizer: Maximum iterations (200) reached and the optimization hasn't converged yet.\n",
            "  warnings.warn(\n"
          ]
        },
        {
          "name": "stdout",
          "output_type": "stream",
          "text": [
            ". "
          ]
        },
        {
          "name": "stderr",
          "output_type": "stream",
          "text": [
            "/usr/local/lib/python3.10/dist-packages/sklearn/neural_network/_multilayer_perceptron.py:690: ConvergenceWarning: Stochastic Optimizer: Maximum iterations (200) reached and the optimization hasn't converged yet.\n",
            "  warnings.warn(\n"
          ]
        },
        {
          "name": "stdout",
          "output_type": "stream",
          "text": [
            ". "
          ]
        },
        {
          "name": "stderr",
          "output_type": "stream",
          "text": [
            "/usr/local/lib/python3.10/dist-packages/sklearn/neural_network/_multilayer_perceptron.py:690: ConvergenceWarning: Stochastic Optimizer: Maximum iterations (200) reached and the optimization hasn't converged yet.\n",
            "  warnings.warn(\n"
          ]
        },
        {
          "name": "stdout",
          "output_type": "stream",
          "text": [
            ". . \n",
            "Average Accuracy: 0.17393939393939395\n",
            "Averaged Average tries: 9.266203398011273\n",
            "US:  3.8 tries (656 tests) | US GB CA AU IN\n",
            "GB:  4.4 tries (683 tests) | GB US AU CA NZ\n",
            "AU:  6.2 tries (257 tests) | US GB AU CA IE\n",
            "CA:  6.6 tries (242 tests) | GB US CA IE NZ\n",
            "IN:  7.0 tries (159 tests) | US GB IN CA AU\n",
            "IE:  8.0 tries (170 tests) | US GB AU CA IE\n",
            "NZ:  8.6 tries (149 tests) | GB US AU CA IE\n",
            "PK:  8.9 tries ( 97 tests) | US GB PK CA AU\n",
            "SG:  9.2 tries ( 72 tests) | US GB SG AU GH\n",
            "MY: 10.2 tries ( 69 tests) | US GB CA AU MY\n",
            "KE: 10.6 tries ( 77 tests) | US GB CA KE IN\n",
            "BD: 10.8 tries ( 70 tests) | GB IN US CA IE\n",
            "GH: 10.9 tries ( 78 tests) | US AU GB IN NZ\n",
            "LK: 10.9 tries ( 61 tests) | GB US JM IN CA\n",
            "ZA: 11.1 tries ( 79 tests) | US GB CA IE AU\n",
            "PH: 11.2 tries ( 75 tests) | US GB CA AU IN\n",
            "NG: 11.3 tries ( 71 tests) | US GB AU IN IE\n",
            "HK: 11.7 tries ( 89 tests) | US GB IE AU NG\n",
            "TZ: 11.8 tries ( 59 tests) | GB US AU CA IE\n",
            "JM: 12.2 tries ( 87 tests) | GB US IN AU IE\n",
            ". "
          ]
        },
        {
          "name": "stderr",
          "output_type": "stream",
          "text": [
            "/usr/local/lib/python3.10/dist-packages/sklearn/neural_network/_multilayer_perceptron.py:690: ConvergenceWarning: Stochastic Optimizer: Maximum iterations (200) reached and the optimization hasn't converged yet.\n",
            "  warnings.warn(\n"
          ]
        },
        {
          "name": "stdout",
          "output_type": "stream",
          "text": [
            ". "
          ]
        },
        {
          "name": "stderr",
          "output_type": "stream",
          "text": [
            "/usr/local/lib/python3.10/dist-packages/sklearn/neural_network/_multilayer_perceptron.py:690: ConvergenceWarning: Stochastic Optimizer: Maximum iterations (200) reached and the optimization hasn't converged yet.\n",
            "  warnings.warn(\n"
          ]
        },
        {
          "name": "stdout",
          "output_type": "stream",
          "text": [
            ". . "
          ]
        },
        {
          "name": "stderr",
          "output_type": "stream",
          "text": [
            "/usr/local/lib/python3.10/dist-packages/sklearn/neural_network/_multilayer_perceptron.py:690: ConvergenceWarning: Stochastic Optimizer: Maximum iterations (200) reached and the optimization hasn't converged yet.\n",
            "  warnings.warn(\n"
          ]
        },
        {
          "name": "stdout",
          "output_type": "stream",
          "text": [
            ". "
          ]
        },
        {
          "name": "stderr",
          "output_type": "stream",
          "text": [
            "/usr/local/lib/python3.10/dist-packages/sklearn/neural_network/_multilayer_perceptron.py:690: ConvergenceWarning: Stochastic Optimizer: Maximum iterations (200) reached and the optimization hasn't converged yet.\n",
            "  warnings.warn(\n"
          ]
        },
        {
          "name": "stdout",
          "output_type": "stream",
          "text": [
            ". "
          ]
        },
        {
          "name": "stderr",
          "output_type": "stream",
          "text": [
            "/usr/local/lib/python3.10/dist-packages/sklearn/neural_network/_multilayer_perceptron.py:690: ConvergenceWarning: Stochastic Optimizer: Maximum iterations (200) reached and the optimization hasn't converged yet.\n",
            "  warnings.warn(\n"
          ]
        },
        {
          "name": "stdout",
          "output_type": "stream",
          "text": [
            ". "
          ]
        },
        {
          "name": "stderr",
          "output_type": "stream",
          "text": [
            "/usr/local/lib/python3.10/dist-packages/sklearn/neural_network/_multilayer_perceptron.py:690: ConvergenceWarning: Stochastic Optimizer: Maximum iterations (200) reached and the optimization hasn't converged yet.\n",
            "  warnings.warn(\n"
          ]
        },
        {
          "name": "stdout",
          "output_type": "stream",
          "text": [
            ". "
          ]
        },
        {
          "name": "stderr",
          "output_type": "stream",
          "text": [
            "/usr/local/lib/python3.10/dist-packages/sklearn/neural_network/_multilayer_perceptron.py:690: ConvergenceWarning: Stochastic Optimizer: Maximum iterations (200) reached and the optimization hasn't converged yet.\n",
            "  warnings.warn(\n"
          ]
        },
        {
          "name": "stdout",
          "output_type": "stream",
          "text": [
            ". "
          ]
        },
        {
          "name": "stderr",
          "output_type": "stream",
          "text": [
            "/usr/local/lib/python3.10/dist-packages/sklearn/neural_network/_multilayer_perceptron.py:690: ConvergenceWarning: Stochastic Optimizer: Maximum iterations (200) reached and the optimization hasn't converged yet.\n",
            "  warnings.warn(\n"
          ]
        },
        {
          "name": "stdout",
          "output_type": "stream",
          "text": [
            ". \n",
            "Average Accuracy: 0.17181818181818181\n",
            "Averaged Average tries: 9.421397695002684\n",
            "GB:  3.5 tries (683 tests) | GB US CA AU IE\n",
            "US:  3.7 tries (656 tests) | US GB AU CA NZ\n",
            "CA:  6.2 tries (242 tests) | GB US CA AU IE\n",
            "AU:  6.3 tries (257 tests) | US GB AU CA IE\n",
            "IN:  8.0 tries (159 tests) | GB US IN AU CA\n",
            "IE:  8.6 tries (170 tests) | US GB CA AU IE\n",
            "SG:  8.7 tries ( 72 tests) | US PH GB GH SG\n",
            "NZ:  8.7 tries (149 tests) | GB US AU CA IE\n",
            "PK:  9.1 tries ( 97 tests) | US AU GB PK IN\n",
            "LK:  9.8 tries ( 61 tests) | GB US AU LK IE\n",
            "BD:  9.9 tries ( 70 tests) | GB US IN IE NZ\n",
            "GH: 10.6 tries ( 78 tests) | US AU GB IN SG\n",
            "ZA: 11.4 tries ( 79 tests) | US GB AU CA IE\n",
            "HK: 11.5 tries ( 89 tests) | US GB CA AU IE\n",
            "KE: 11.6 tries ( 77 tests) | US GB CA AU IE\n",
            "MY: 11.7 tries ( 69 tests) | US GB AU NZ CA\n",
            "NG: 12.0 tries ( 71 tests) | US GB CA KE AU\n",
            "TZ: 12.1 tries ( 59 tests) | GB US AU NG IE\n",
            "JM: 12.5 tries ( 87 tests) | GB US AU NZ CA\n",
            "PH: 12.7 tries ( 75 tests) | US GB AU CA IN\n"
          ]
        },
        {
          "name": "stderr",
          "output_type": "stream",
          "text": [
            "/usr/local/lib/python3.10/dist-packages/sklearn/neural_network/_multilayer_perceptron.py:690: ConvergenceWarning: Stochastic Optimizer: Maximum iterations (200) reached and the optimization hasn't converged yet.\n",
            "  warnings.warn(\n"
          ]
        },
        {
          "name": "stdout",
          "output_type": "stream",
          "text": [
            ". "
          ]
        },
        {
          "name": "stderr",
          "output_type": "stream",
          "text": [
            "/usr/local/lib/python3.10/dist-packages/sklearn/neural_network/_multilayer_perceptron.py:690: ConvergenceWarning: Stochastic Optimizer: Maximum iterations (200) reached and the optimization hasn't converged yet.\n",
            "  warnings.warn(\n"
          ]
        },
        {
          "name": "stdout",
          "output_type": "stream",
          "text": [
            ". "
          ]
        },
        {
          "name": "stderr",
          "output_type": "stream",
          "text": [
            "/usr/local/lib/python3.10/dist-packages/sklearn/neural_network/_multilayer_perceptron.py:690: ConvergenceWarning: Stochastic Optimizer: Maximum iterations (200) reached and the optimization hasn't converged yet.\n",
            "  warnings.warn(\n"
          ]
        },
        {
          "name": "stdout",
          "output_type": "stream",
          "text": [
            ". "
          ]
        },
        {
          "name": "stderr",
          "output_type": "stream",
          "text": [
            "/usr/local/lib/python3.10/dist-packages/sklearn/neural_network/_multilayer_perceptron.py:690: ConvergenceWarning: Stochastic Optimizer: Maximum iterations (200) reached and the optimization hasn't converged yet.\n",
            "  warnings.warn(\n"
          ]
        },
        {
          "name": "stdout",
          "output_type": "stream",
          "text": [
            ". "
          ]
        },
        {
          "name": "stderr",
          "output_type": "stream",
          "text": [
            "/usr/local/lib/python3.10/dist-packages/sklearn/neural_network/_multilayer_perceptron.py:690: ConvergenceWarning: Stochastic Optimizer: Maximum iterations (200) reached and the optimization hasn't converged yet.\n",
            "  warnings.warn(\n"
          ]
        },
        {
          "name": "stdout",
          "output_type": "stream",
          "text": [
            ". "
          ]
        },
        {
          "name": "stderr",
          "output_type": "stream",
          "text": [
            "/usr/local/lib/python3.10/dist-packages/sklearn/neural_network/_multilayer_perceptron.py:690: ConvergenceWarning: Stochastic Optimizer: Maximum iterations (200) reached and the optimization hasn't converged yet.\n",
            "  warnings.warn(\n"
          ]
        },
        {
          "name": "stdout",
          "output_type": "stream",
          "text": [
            ". "
          ]
        },
        {
          "name": "stderr",
          "output_type": "stream",
          "text": [
            "/usr/local/lib/python3.10/dist-packages/sklearn/neural_network/_multilayer_perceptron.py:690: ConvergenceWarning: Stochastic Optimizer: Maximum iterations (200) reached and the optimization hasn't converged yet.\n",
            "  warnings.warn(\n"
          ]
        },
        {
          "name": "stdout",
          "output_type": "stream",
          "text": [
            ". "
          ]
        },
        {
          "name": "stderr",
          "output_type": "stream",
          "text": [
            "/usr/local/lib/python3.10/dist-packages/sklearn/neural_network/_multilayer_perceptron.py:690: ConvergenceWarning: Stochastic Optimizer: Maximum iterations (200) reached and the optimization hasn't converged yet.\n",
            "  warnings.warn(\n"
          ]
        },
        {
          "name": "stdout",
          "output_type": "stream",
          "text": [
            ". "
          ]
        },
        {
          "name": "stderr",
          "output_type": "stream",
          "text": [
            "/usr/local/lib/python3.10/dist-packages/sklearn/neural_network/_multilayer_perceptron.py:690: ConvergenceWarning: Stochastic Optimizer: Maximum iterations (200) reached and the optimization hasn't converged yet.\n",
            "  warnings.warn(\n"
          ]
        },
        {
          "name": "stdout",
          "output_type": "stream",
          "text": [
            ". . \n",
            "Average Accuracy: 0.17454545454545456\n",
            "Averaged Average tries: 9.26595509064371\n",
            "US:  3.8 tries (656 tests) | US GB AU CA IN\n",
            "GB:  4.0 tries (683 tests) | GB US CA AU IE\n",
            "CA:  6.4 tries (242 tests) | US GB CA AU IN\n",
            "AU:  6.4 tries (257 tests) | GB US AU CA NZ\n",
            "IN:  6.6 tries (159 tests) | GB US IN CA IE\n",
            "IE:  8.1 tries (170 tests) | US GB AU CA IN\n",
            "NZ:  8.6 tries (149 tests) | GB US AU IE NZ\n",
            "PK:  8.6 tries ( 97 tests) | US GB PK AU IN\n",
            "BD:  9.6 tries ( 70 tests) | GB US IN CA IE\n",
            "LK:  9.6 tries ( 61 tests) | GB US IE IN LK\n",
            "SG: 10.2 tries ( 72 tests) | GB US SG CA IN\n",
            "KE: 10.2 tries ( 77 tests) | US GB GH KE CA\n",
            "HK: 10.3 tries ( 89 tests) | GB US CA IE AU\n",
            "GH: 10.3 tries ( 78 tests) | US GB AU IN NZ\n",
            "MY: 11.2 tries ( 69 tests) | US GB NZ AU CA\n",
            "ZA: 11.2 tries ( 79 tests) | US GB AU CA ZA\n",
            "PH: 11.8 tries ( 75 tests) | US GB CA AU IE\n",
            "JM: 12.3 tries ( 87 tests) | GB US CA AU IN\n",
            "NG: 12.5 tries ( 71 tests) | US GB AU KE IN\n",
            "TZ: 13.7 tries ( 59 tests) | GB US AU IE NZ\n"
          ]
        },
        {
          "name": "stderr",
          "output_type": "stream",
          "text": [
            "/usr/local/lib/python3.10/dist-packages/sklearn/neural_network/_multilayer_perceptron.py:690: ConvergenceWarning: Stochastic Optimizer: Maximum iterations (200) reached and the optimization hasn't converged yet.\n",
            "  warnings.warn(\n"
          ]
        }
      ],
      "source": [
        "from sklearn.neural_network import MLPClassifier\n",
        "\n",
        "# Multi-layer Perceptron Model\n",
        "mlp_model = MLPClassifier(random_state=3)\n",
        "average_performance(mlp_model,X)\n",
        "average_performance(mlp_model,X_25)\n",
        "average_performance(mlp_model,X_50)"
      ]
    },
    {
      "cell_type": "code",
      "execution_count": null,
      "metadata": {
        "colab": {
          "base_uri": "https://localhost:8080/"
        },
        "id": "KsTVdjEFU9U6",
        "outputId": "a9dec991-ae82-4543-d766-071bdd4e8506"
      },
      "outputs": [
        {
          "name": "stdout",
          "output_type": "stream",
          "text": [
            ". . . . . . . . . . \n",
            "Average Accuracy: 0.07696969696969697\n",
            "Averaged Average tries: 9.358864171856451\n",
            "PK:  6.8 tries ( 97 tests) | PK NG SG IN AU\n",
            "GH:  8.1 tries ( 78 tests) | PH GH TZ NG ZA\n",
            "TZ:  8.2 tries ( 59 tests) | GH PH NG AU LK\n",
            "SG:  8.2 tries ( 72 tests) | PH GH BD SG IN\n",
            "AU:  8.7 tries (257 tests) | AU PH MY US GB\n",
            "CA:  8.9 tries (242 tests) | CA US NZ HK BD\n",
            "IN:  9.2 tries (159 tests) | NZ PK IN PH LK\n",
            "ZA:  9.3 tries ( 79 tests) | MY CA ZA IN NG\n",
            "HK:  9.5 tries ( 89 tests) | MY NZ KE IN SG\n",
            "US:  9.5 tries (656 tests) | US GB CA MY AU\n",
            "NZ:  9.5 tries (149 tests) | JM IE US NZ TZ\n",
            "PH:  9.6 tries ( 75 tests) | TZ HK CA GB SG\n",
            "IE:  9.6 tries (170 tests) | BD IN TZ NG US\n",
            "KE:  9.8 tries ( 77 tests) | KE TZ LK GH ZA\n",
            "GB:  9.9 tries (683 tests) | AU BD US NZ CA\n",
            "LK: 10.0 tries ( 61 tests) | JM ZA GH LK IE\n",
            "MY: 10.1 tries ( 69 tests) | BD US JM NZ CA\n",
            "NG: 10.1 tries ( 71 tests) | HK BD ZA GH IE\n",
            "BD: 10.5 tries ( 70 tests) | NG KE JM IN GH\n",
            "JM: 11.8 tries ( 87 tests) | LK CA PH IE IN\n",
            ". . . . . . . . . . \n",
            "Average Accuracy: 0.07666666666666666\n",
            "Averaged Average tries: 9.362293725189009\n",
            "PK:  6.8 tries ( 97 tests) | PK NG SG IN AU\n",
            "GH:  8.1 tries ( 78 tests) | PH GH TZ NG ZA\n",
            "TZ:  8.2 tries ( 59 tests) | GH PH NG AU LK\n",
            "SG:  8.2 tries ( 72 tests) | PH GH BD SG IN\n",
            "AU:  8.7 tries (257 tests) | AU PH MY US GB\n",
            "CA:  8.9 tries (242 tests) | CA US NZ HK BD\n",
            "IN:  9.2 tries (159 tests) | NZ PK IN PH LK\n",
            "ZA:  9.3 tries ( 79 tests) | MY CA ZA IN NG\n",
            "HK:  9.5 tries ( 89 tests) | MY NZ KE IN SG\n",
            "US:  9.5 tries (656 tests) | US GB CA MY AU\n",
            "NZ:  9.6 tries (149 tests) | JM IE US NZ TZ\n",
            "IE:  9.6 tries (170 tests) | BD IN TZ NG US\n",
            "PH:  9.6 tries ( 75 tests) | TZ HK CA GB NZ\n",
            "KE:  9.8 tries ( 77 tests) | KE TZ LK GH ZA\n",
            "GB:  9.9 tries (683 tests) | AU BD US NZ CA\n",
            "LK:  9.9 tries ( 61 tests) | JM ZA GH LK IE\n",
            "NG: 10.1 tries ( 71 tests) | HK BD ZA GH IE\n",
            "MY: 10.1 tries ( 69 tests) | BD US JM CA NZ\n",
            "BD: 10.5 tries ( 70 tests) | NG KE JM IN GH\n",
            "JM: 11.8 tries ( 87 tests) | LK CA PH IE IN\n",
            ". . . . . . . . . . \n",
            "Average Accuracy: 0.07636363636363637\n",
            "Averaged Average tries: 9.356015423007891\n",
            "PK:  6.8 tries ( 97 tests) | PK NG SG IN AU\n",
            "SG:  8.1 tries ( 72 tests) | PH GH BD SG IN\n",
            "GH:  8.1 tries ( 78 tests) | PH TZ GH NG ZA\n",
            "TZ:  8.2 tries ( 59 tests) | GH PH NG AU LK\n",
            "AU:  8.7 tries (257 tests) | AU PH MY US GB\n",
            "CA:  8.8 tries (242 tests) | CA US NZ HK BD\n",
            "IN:  9.2 tries (159 tests) | NZ PK IN PH LK\n",
            "ZA:  9.3 tries ( 79 tests) | MY CA ZA IN NG\n",
            "US:  9.5 tries (656 tests) | US GB CA MY AU\n",
            "HK:  9.5 tries ( 89 tests) | MY NZ KE IN HK\n",
            "IE:  9.6 tries (170 tests) | BD IN TZ NG AU\n",
            "PH:  9.6 tries ( 75 tests) | TZ HK CA NZ SG\n",
            "NZ:  9.7 tries (149 tests) | JM IE US NZ TZ\n",
            "KE:  9.8 tries ( 77 tests) | KE LK TZ GH ZA\n",
            "GB:  9.9 tries (683 tests) | AU BD US NZ CA\n",
            "LK:  9.9 tries ( 61 tests) | JM ZA GH LK IE\n",
            "NG: 10.0 tries ( 71 tests) | HK BD ZA GH IE\n",
            "MY: 10.0 tries ( 69 tests) | BD US JM SG CA\n",
            "BD: 10.5 tries ( 70 tests) | NG KE JM IN GH\n",
            "JM: 11.8 tries ( 87 tests) | LK CA PH IE IN\n"
          ]
        }
      ],
      "source": [
        "from sklearn.linear_model import LogisticRegression\n",
        "\n",
        "# Logistic Regression model with undersampling\n",
        "model = LogisticRegression(max_iter=2000)\n",
        "average_performance(model, X, undersampling=True)\n",
        "average_performance(model, X_25, undersampling=True)\n",
        "average_performance(model, X_50, undersampling=True)"
      ]
    },
    {
      "cell_type": "code",
      "execution_count": null,
      "metadata": {
        "colab": {
          "base_uri": "https://localhost:8080/"
        },
        "id": "OOA9JOkGU9U6",
        "outputId": "5fc570e2-85e6-4a1a-f29f-4f0bbd70f130"
      },
      "outputs": [
        {
          "name": "stdout",
          "output_type": "stream",
          "text": [
            ". . . . . . . . . . \n",
            "Average Accuracy: 0.08878787878787879\n",
            "Averaged Average tries: 9.564896729650242\n",
            "GH:  7.9 tries ( 78 tests) | GH TZ LK NZ SG\n",
            "CA:  8.4 tries (242 tests) | CA KE US AU GB\n",
            "AU:  8.5 tries (257 tests) | AU CA GB MY US\n",
            "GB:  8.7 tries (683 tests) | GB US CA AU IN\n",
            "BD:  8.9 tries ( 70 tests) | IN NZ KE BD NG\n",
            "IN:  8.9 tries (159 tests) | IN AU BD GB US\n",
            "PK:  9.4 tries ( 97 tests) | PK IN HK ZA AU\n",
            "KE:  9.5 tries ( 77 tests) | GH KE LK US CA\n",
            "HK:  9.6 tries ( 89 tests) | US HK NZ NG TZ\n",
            "NZ:  9.7 tries (149 tests) | BD AU IE NZ SG\n",
            "IE:  9.7 tries (170 tests) | ZA TZ NZ BD LK\n",
            "JM:  9.7 tries ( 87 tests) | CA GB IE US JM\n",
            "PH:  9.7 tries ( 75 tests) | PH US NZ GB IE\n",
            "US: 10.0 tries (656 tests) | GB CA US AU IN\n",
            "NG: 10.2 tries ( 71 tests) | BD US KE GH JM\n",
            "LK: 10.2 tries ( 61 tests) | BD KE IE GH TZ\n",
            "ZA: 10.3 tries ( 79 tests) | IE ZA HK US CA\n",
            "SG: 10.4 tries ( 72 tests) | BD SG CA IE AU\n",
            "TZ: 10.5 tries ( 59 tests) | HK LK ZA MY GH\n",
            "MY: 11.0 tries ( 69 tests) | AU KE TZ CA JM\n",
            ". . . . . . . . . . \n",
            "Average Accuracy: 0.08181818181818182\n",
            "Averaged Average tries: 9.321819012777583\n",
            "GH:  8.1 tries ( 78 tests) | GH ZA TZ NG LK\n",
            "CA:  8.1 tries (242 tests) | CA AU KE US NZ\n",
            "NG:  8.2 tries ( 71 tests) | NG BD JM US KE\n",
            "JM:  8.3 tries ( 87 tests) | JM LK CA US MY\n",
            "BD:  8.6 tries ( 70 tests) | IN NG BD NZ LK\n",
            "IN:  8.7 tries (159 tests) | IN AU BD GB US\n",
            "LK:  8.8 tries ( 61 tests) | IN GH LK BD IE\n",
            "GB:  8.9 tries (683 tests) | US GB IN AU CA\n",
            "AU:  9.1 tries (257 tests) | CA AU US IN MY\n",
            "TZ:  9.1 tries ( 59 tests) | MY LK TZ HK PK\n",
            "IE:  9.2 tries (170 tests) | IE ZA LK NZ CA\n",
            "NZ:  9.5 tries (149 tests) | AU IE BD NZ ZA\n",
            "HK:  9.5 tries ( 89 tests) | NG NZ US MY TZ\n",
            "PK:  9.6 tries ( 97 tests) | PK IN HK AU NG\n",
            "KE:  9.8 tries ( 77 tests) | GH KE US AU MY\n",
            "PH: 10.2 tries ( 75 tests) | PH AU NZ IE IN\n",
            "US: 10.2 tries (656 tests) | CA AU GB US IN\n",
            "SG: 10.5 tries ( 72 tests) | SG BD MY CA AU\n",
            "ZA: 10.8 tries ( 79 tests) | IE AU CA US NZ\n",
            "MY: 11.1 tries ( 69 tests) | AU GH CA JM MY\n",
            ". . . . . . . . . . \n",
            "Average Accuracy: 0.07484848484848486\n",
            "Averaged Average tries: 9.428038073686995\n",
            "GH:  7.8 tries ( 78 tests) | GH KE NZ ZA LK\n",
            "BD:  8.1 tries ( 70 tests) | IN KE BD IE LK\n",
            "CA:  8.2 tries (242 tests) | CA US AU IN KE\n",
            "PH:  8.6 tries ( 75 tests) | PH GB IE US IN\n",
            "AU:  8.6 tries (257 tests) | AU CA US GB MY\n",
            "IN:  8.9 tries (159 tests) | IN BD GB AU CA\n",
            "JM:  9.0 tries ( 87 tests) | CA GB JM TZ US\n",
            "GB:  9.1 tries (683 tests) | CA US GB IN AU\n",
            "TZ:  9.3 tries ( 59 tests) | HK MY TZ GH JM\n",
            "KE:  9.4 tries ( 77 tests) | GH KE CA AU LK\n",
            "IE:  9.5 tries (170 tests) | ZA LK BD NZ IE\n",
            "NZ:  9.8 tries (149 tests) | AU IE NZ BD TZ\n",
            "LK:  9.9 tries ( 61 tests) | KE IE BD IN GH\n",
            "NG: 10.0 tries ( 71 tests) | JM US BD KE SG\n",
            "HK: 10.0 tries ( 89 tests) | ZA MY IE US TZ\n",
            "PK: 10.1 tries ( 97 tests) | PK IN HK AU GB\n",
            "SG: 10.3 tries ( 72 tests) | JM SG MY CA BD\n",
            "US: 10.4 tries (656 tests) | CA GB AU IN US\n",
            "ZA: 10.8 tries ( 79 tests) | IE NZ AU GB US\n",
            "MY: 10.8 tries ( 69 tests) | TZ AU GB GH MY\n"
          ]
        }
      ],
      "source": [
        "from sklearn.ensemble import RandomForestClassifier\n",
        "\n",
        "# Random Forest Classifier with undersampling\n",
        "rf_model = RandomForestClassifier(random_state=3)\n",
        "average_performance(rf_model, X, undersampling=True)\n",
        "average_performance(rf_model, X_25, undersampling=True)\n",
        "average_performance(rf_model, X_50, undersampling=True)"
      ]
    },
    {
      "cell_type": "code",
      "execution_count": null,
      "metadata": {
        "colab": {
          "base_uri": "https://localhost:8080/"
        },
        "id": "lIasB_nrU9U7",
        "outputId": "8e001ae6-938c-40a9-f6cf-3adaa1e122ab"
      },
      "outputs": [
        {
          "name": "stderr",
          "output_type": "stream",
          "text": [
            "/usr/local/lib/python3.10/dist-packages/sklearn/neural_network/_multilayer_perceptron.py:690: ConvergenceWarning: Stochastic Optimizer: Maximum iterations (200) reached and the optimization hasn't converged yet.\n",
            "  warnings.warn(\n"
          ]
        },
        {
          "name": "stdout",
          "output_type": "stream",
          "text": [
            ". "
          ]
        },
        {
          "name": "stderr",
          "output_type": "stream",
          "text": [
            "/usr/local/lib/python3.10/dist-packages/sklearn/neural_network/_multilayer_perceptron.py:690: ConvergenceWarning: Stochastic Optimizer: Maximum iterations (200) reached and the optimization hasn't converged yet.\n",
            "  warnings.warn(\n"
          ]
        },
        {
          "name": "stdout",
          "output_type": "stream",
          "text": [
            ". "
          ]
        },
        {
          "name": "stderr",
          "output_type": "stream",
          "text": [
            "/usr/local/lib/python3.10/dist-packages/sklearn/neural_network/_multilayer_perceptron.py:690: ConvergenceWarning: Stochastic Optimizer: Maximum iterations (200) reached and the optimization hasn't converged yet.\n",
            "  warnings.warn(\n"
          ]
        },
        {
          "name": "stdout",
          "output_type": "stream",
          "text": [
            ". "
          ]
        },
        {
          "name": "stderr",
          "output_type": "stream",
          "text": [
            "/usr/local/lib/python3.10/dist-packages/sklearn/neural_network/_multilayer_perceptron.py:690: ConvergenceWarning: Stochastic Optimizer: Maximum iterations (200) reached and the optimization hasn't converged yet.\n",
            "  warnings.warn(\n"
          ]
        },
        {
          "name": "stdout",
          "output_type": "stream",
          "text": [
            ". "
          ]
        },
        {
          "name": "stderr",
          "output_type": "stream",
          "text": [
            "/usr/local/lib/python3.10/dist-packages/sklearn/neural_network/_multilayer_perceptron.py:690: ConvergenceWarning: Stochastic Optimizer: Maximum iterations (200) reached and the optimization hasn't converged yet.\n",
            "  warnings.warn(\n"
          ]
        },
        {
          "name": "stdout",
          "output_type": "stream",
          "text": [
            ". "
          ]
        },
        {
          "name": "stderr",
          "output_type": "stream",
          "text": [
            "/usr/local/lib/python3.10/dist-packages/sklearn/neural_network/_multilayer_perceptron.py:690: ConvergenceWarning: Stochastic Optimizer: Maximum iterations (200) reached and the optimization hasn't converged yet.\n",
            "  warnings.warn(\n"
          ]
        },
        {
          "name": "stdout",
          "output_type": "stream",
          "text": [
            ". "
          ]
        },
        {
          "name": "stderr",
          "output_type": "stream",
          "text": [
            "/usr/local/lib/python3.10/dist-packages/sklearn/neural_network/_multilayer_perceptron.py:690: ConvergenceWarning: Stochastic Optimizer: Maximum iterations (200) reached and the optimization hasn't converged yet.\n",
            "  warnings.warn(\n"
          ]
        },
        {
          "name": "stdout",
          "output_type": "stream",
          "text": [
            ". "
          ]
        },
        {
          "name": "stderr",
          "output_type": "stream",
          "text": [
            "/usr/local/lib/python3.10/dist-packages/sklearn/neural_network/_multilayer_perceptron.py:690: ConvergenceWarning: Stochastic Optimizer: Maximum iterations (200) reached and the optimization hasn't converged yet.\n",
            "  warnings.warn(\n"
          ]
        },
        {
          "name": "stdout",
          "output_type": "stream",
          "text": [
            ". "
          ]
        },
        {
          "name": "stderr",
          "output_type": "stream",
          "text": [
            "/usr/local/lib/python3.10/dist-packages/sklearn/neural_network/_multilayer_perceptron.py:690: ConvergenceWarning: Stochastic Optimizer: Maximum iterations (200) reached and the optimization hasn't converged yet.\n",
            "  warnings.warn(\n"
          ]
        },
        {
          "name": "stdout",
          "output_type": "stream",
          "text": [
            ". "
          ]
        },
        {
          "name": "stderr",
          "output_type": "stream",
          "text": [
            "/usr/local/lib/python3.10/dist-packages/sklearn/neural_network/_multilayer_perceptron.py:690: ConvergenceWarning: Stochastic Optimizer: Maximum iterations (200) reached and the optimization hasn't converged yet.\n",
            "  warnings.warn(\n"
          ]
        },
        {
          "name": "stdout",
          "output_type": "stream",
          "text": [
            ". \n",
            "Average Accuracy: 0.07424242424242425\n",
            "Averaged Average tries: 9.524997843271251\n",
            "PK:  8.5 tries ( 97 tests) | PK AU NG SG ZA\n",
            "BD:  8.5 tries ( 70 tests) | BD NG JM KE GH\n",
            "IN:  8.6 tries (159 tests) | BD IN NZ SG IE\n",
            "SG:  8.6 tries ( 72 tests) | GH SG PH NZ IE\n",
            "KE:  9.0 tries ( 77 tests) | KE GH LK AU TZ\n",
            "AU:  9.0 tries (257 tests) | CA AU US PH BD\n",
            "ZA:  9.0 tries ( 79 tests) | US ZA NG JM HK\n",
            "MY:  9.1 tries ( 69 tests) | BD MY LK JM PH\n",
            "CA:  9.2 tries (242 tests) | CA US PK TZ HK\n",
            "GH:  9.3 tries ( 78 tests) | NG AU SG GH NZ\n",
            "HK:  9.6 tries ( 89 tests) | IE MY HK SG NZ\n",
            "TZ:  9.8 tries ( 59 tests) | TZ HK JM NZ GB\n",
            "GB:  9.9 tries (683 tests) | AU BD US TZ MY\n",
            "NG: 10.0 tries ( 71 tests) | KE GH AU ZA LK\n",
            "US: 10.0 tries (656 tests) | CA AU US MY IN\n",
            "IE: 10.1 tries (170 tests) | LK TZ NG AU JM\n",
            "LK: 10.2 tries ( 61 tests) | JM NG ZA HK GH\n",
            "NZ: 10.3 tries (149 tests) | BD HK SG TZ JM\n",
            "JM: 10.7 tries ( 87 tests) | KE PH IE CA HK\n",
            "PH: 10.9 tries ( 75 tests) | SG NZ ZA KE AU\n"
          ]
        },
        {
          "name": "stderr",
          "output_type": "stream",
          "text": [
            "/usr/local/lib/python3.10/dist-packages/sklearn/neural_network/_multilayer_perceptron.py:690: ConvergenceWarning: Stochastic Optimizer: Maximum iterations (200) reached and the optimization hasn't converged yet.\n",
            "  warnings.warn(\n"
          ]
        },
        {
          "name": "stdout",
          "output_type": "stream",
          "text": [
            ". "
          ]
        },
        {
          "name": "stderr",
          "output_type": "stream",
          "text": [
            "/usr/local/lib/python3.10/dist-packages/sklearn/neural_network/_multilayer_perceptron.py:690: ConvergenceWarning: Stochastic Optimizer: Maximum iterations (200) reached and the optimization hasn't converged yet.\n",
            "  warnings.warn(\n"
          ]
        },
        {
          "name": "stdout",
          "output_type": "stream",
          "text": [
            ". "
          ]
        },
        {
          "name": "stderr",
          "output_type": "stream",
          "text": [
            "/usr/local/lib/python3.10/dist-packages/sklearn/neural_network/_multilayer_perceptron.py:690: ConvergenceWarning: Stochastic Optimizer: Maximum iterations (200) reached and the optimization hasn't converged yet.\n",
            "  warnings.warn(\n"
          ]
        },
        {
          "name": "stdout",
          "output_type": "stream",
          "text": [
            ". "
          ]
        },
        {
          "name": "stderr",
          "output_type": "stream",
          "text": [
            "/usr/local/lib/python3.10/dist-packages/sklearn/neural_network/_multilayer_perceptron.py:690: ConvergenceWarning: Stochastic Optimizer: Maximum iterations (200) reached and the optimization hasn't converged yet.\n",
            "  warnings.warn(\n"
          ]
        },
        {
          "name": "stdout",
          "output_type": "stream",
          "text": [
            ". "
          ]
        },
        {
          "name": "stderr",
          "output_type": "stream",
          "text": [
            "/usr/local/lib/python3.10/dist-packages/sklearn/neural_network/_multilayer_perceptron.py:690: ConvergenceWarning: Stochastic Optimizer: Maximum iterations (200) reached and the optimization hasn't converged yet.\n",
            "  warnings.warn(\n"
          ]
        },
        {
          "name": "stdout",
          "output_type": "stream",
          "text": [
            ". "
          ]
        },
        {
          "name": "stderr",
          "output_type": "stream",
          "text": [
            "/usr/local/lib/python3.10/dist-packages/sklearn/neural_network/_multilayer_perceptron.py:690: ConvergenceWarning: Stochastic Optimizer: Maximum iterations (200) reached and the optimization hasn't converged yet.\n",
            "  warnings.warn(\n"
          ]
        },
        {
          "name": "stdout",
          "output_type": "stream",
          "text": [
            ". "
          ]
        },
        {
          "name": "stderr",
          "output_type": "stream",
          "text": [
            "/usr/local/lib/python3.10/dist-packages/sklearn/neural_network/_multilayer_perceptron.py:690: ConvergenceWarning: Stochastic Optimizer: Maximum iterations (200) reached and the optimization hasn't converged yet.\n",
            "  warnings.warn(\n"
          ]
        },
        {
          "name": "stdout",
          "output_type": "stream",
          "text": [
            ". "
          ]
        },
        {
          "name": "stderr",
          "output_type": "stream",
          "text": [
            "/usr/local/lib/python3.10/dist-packages/sklearn/neural_network/_multilayer_perceptron.py:690: ConvergenceWarning: Stochastic Optimizer: Maximum iterations (200) reached and the optimization hasn't converged yet.\n",
            "  warnings.warn(\n"
          ]
        },
        {
          "name": "stdout",
          "output_type": "stream",
          "text": [
            ". "
          ]
        },
        {
          "name": "stderr",
          "output_type": "stream",
          "text": [
            "/usr/local/lib/python3.10/dist-packages/sklearn/neural_network/_multilayer_perceptron.py:690: ConvergenceWarning: Stochastic Optimizer: Maximum iterations (200) reached and the optimization hasn't converged yet.\n",
            "  warnings.warn(\n"
          ]
        },
        {
          "name": "stdout",
          "output_type": "stream",
          "text": [
            ". "
          ]
        },
        {
          "name": "stderr",
          "output_type": "stream",
          "text": [
            "/usr/local/lib/python3.10/dist-packages/sklearn/neural_network/_multilayer_perceptron.py:690: ConvergenceWarning: Stochastic Optimizer: Maximum iterations (200) reached and the optimization hasn't converged yet.\n",
            "  warnings.warn(\n"
          ]
        },
        {
          "name": "stdout",
          "output_type": "stream",
          "text": [
            ". \n",
            "Average Accuracy: 0.07030303030303031\n",
            "Averaged Average tries: 9.412643265119119\n",
            "SG:  6.9 tries ( 72 tests) | PH SG GH NZ IE\n",
            "GH:  7.2 tries ( 78 tests) | GH IE SG AU CA\n",
            "PK:  8.3 tries ( 97 tests) | PK NG ZA AU LK\n",
            "BD:  8.5 tries ( 70 tests) | LK BD KE PH MY\n",
            "CA:  9.0 tries (242 tests) | CA US PH AU KE\n",
            "KE:  9.3 tries ( 77 tests) | CA KE PH NZ BD\n",
            "ZA:  9.3 tries ( 79 tests) | IE ZA MY CA NG\n",
            "US:  9.4 tries (656 tests) | AU CA US MY NZ\n",
            "AU:  9.5 tries (257 tests) | CA PH NZ AU GB\n",
            "NG:  9.6 tries ( 71 tests) | HK BD IN KE TZ\n",
            "NZ:  9.6 tries (149 tests) | CA PH HK US GH\n",
            "IN:  9.6 tries (159 tests) | US NG IN PK BD\n",
            "LK:  9.7 tries ( 61 tests) | JM US BD LK AU\n",
            "GB:  9.9 tries (683 tests) | US GB BD CA PH\n",
            "MY:  9.9 tries ( 69 tests) | US LK BD NZ PK\n",
            "HK: 10.0 tries ( 89 tests) | SG PH NG MY TZ\n",
            "TZ: 10.3 tries ( 59 tests) | GH NG HK IE PH\n",
            "IE: 10.4 tries (170 tests) | JM IN LK CA BD\n",
            "PH: 10.7 tries ( 75 tests) | CA JM NZ KE SG\n",
            "JM: 11.1 tries ( 87 tests) | PK CA US NZ BD\n"
          ]
        },
        {
          "name": "stderr",
          "output_type": "stream",
          "text": [
            "/usr/local/lib/python3.10/dist-packages/sklearn/neural_network/_multilayer_perceptron.py:690: ConvergenceWarning: Stochastic Optimizer: Maximum iterations (200) reached and the optimization hasn't converged yet.\n",
            "  warnings.warn(\n"
          ]
        },
        {
          "name": "stdout",
          "output_type": "stream",
          "text": [
            ". "
          ]
        },
        {
          "name": "stderr",
          "output_type": "stream",
          "text": [
            "/usr/local/lib/python3.10/dist-packages/sklearn/neural_network/_multilayer_perceptron.py:690: ConvergenceWarning: Stochastic Optimizer: Maximum iterations (200) reached and the optimization hasn't converged yet.\n",
            "  warnings.warn(\n"
          ]
        },
        {
          "name": "stdout",
          "output_type": "stream",
          "text": [
            ". "
          ]
        },
        {
          "name": "stderr",
          "output_type": "stream",
          "text": [
            "/usr/local/lib/python3.10/dist-packages/sklearn/neural_network/_multilayer_perceptron.py:690: ConvergenceWarning: Stochastic Optimizer: Maximum iterations (200) reached and the optimization hasn't converged yet.\n",
            "  warnings.warn(\n"
          ]
        },
        {
          "name": "stdout",
          "output_type": "stream",
          "text": [
            ". "
          ]
        },
        {
          "name": "stderr",
          "output_type": "stream",
          "text": [
            "/usr/local/lib/python3.10/dist-packages/sklearn/neural_network/_multilayer_perceptron.py:690: ConvergenceWarning: Stochastic Optimizer: Maximum iterations (200) reached and the optimization hasn't converged yet.\n",
            "  warnings.warn(\n"
          ]
        },
        {
          "name": "stdout",
          "output_type": "stream",
          "text": [
            ". "
          ]
        },
        {
          "name": "stderr",
          "output_type": "stream",
          "text": [
            "/usr/local/lib/python3.10/dist-packages/sklearn/neural_network/_multilayer_perceptron.py:690: ConvergenceWarning: Stochastic Optimizer: Maximum iterations (200) reached and the optimization hasn't converged yet.\n",
            "  warnings.warn(\n"
          ]
        },
        {
          "name": "stdout",
          "output_type": "stream",
          "text": [
            ". "
          ]
        },
        {
          "name": "stderr",
          "output_type": "stream",
          "text": [
            "/usr/local/lib/python3.10/dist-packages/sklearn/neural_network/_multilayer_perceptron.py:690: ConvergenceWarning: Stochastic Optimizer: Maximum iterations (200) reached and the optimization hasn't converged yet.\n",
            "  warnings.warn(\n"
          ]
        },
        {
          "name": "stdout",
          "output_type": "stream",
          "text": [
            ". "
          ]
        },
        {
          "name": "stderr",
          "output_type": "stream",
          "text": [
            "/usr/local/lib/python3.10/dist-packages/sklearn/neural_network/_multilayer_perceptron.py:690: ConvergenceWarning: Stochastic Optimizer: Maximum iterations (200) reached and the optimization hasn't converged yet.\n",
            "  warnings.warn(\n"
          ]
        },
        {
          "name": "stdout",
          "output_type": "stream",
          "text": [
            ". "
          ]
        },
        {
          "name": "stderr",
          "output_type": "stream",
          "text": [
            "/usr/local/lib/python3.10/dist-packages/sklearn/neural_network/_multilayer_perceptron.py:690: ConvergenceWarning: Stochastic Optimizer: Maximum iterations (200) reached and the optimization hasn't converged yet.\n",
            "  warnings.warn(\n"
          ]
        },
        {
          "name": "stdout",
          "output_type": "stream",
          "text": [
            ". "
          ]
        },
        {
          "name": "stderr",
          "output_type": "stream",
          "text": [
            "/usr/local/lib/python3.10/dist-packages/sklearn/neural_network/_multilayer_perceptron.py:690: ConvergenceWarning: Stochastic Optimizer: Maximum iterations (200) reached and the optimization hasn't converged yet.\n",
            "  warnings.warn(\n"
          ]
        },
        {
          "name": "stdout",
          "output_type": "stream",
          "text": [
            ". . \n",
            "Average Accuracy: 0.07909090909090909\n",
            "Averaged Average tries: 9.436044368122289\n",
            "PK:  7.8 tries ( 97 tests) | PK ZA NG SG US\n",
            "CA:  8.4 tries (242 tests) | CA IN US ZA AU\n",
            "KE:  8.4 tries ( 77 tests) | KE MY GH ZA CA\n",
            "HK:  8.7 tries ( 89 tests) | MY SG CA AU IE\n",
            "IN:  8.8 tries (159 tests) | BD IN CA LK NG\n",
            "GH:  8.9 tries ( 78 tests) | GH KE AU JM TZ\n",
            "BD:  8.9 tries ( 70 tests) | NZ IN BD PK SG\n",
            "AU:  9.3 tries (257 tests) | US GB CA AU HK\n",
            "US:  9.4 tries (656 tests) | MY US CA GB AU\n",
            "PH:  9.4 tries ( 75 tests) | SG LK CA NZ US\n",
            "SG:  9.4 tries ( 72 tests) | PH US GH SG NG\n",
            "LK:  9.4 tries ( 61 tests) | ZA IE GB JM TZ\n",
            "ZA:  9.5 tries ( 79 tests) | ZA US LK HK JM\n",
            "TZ:  9.6 tries ( 59 tests) | PH TZ NZ NG HK\n",
            "IE: 10.0 tries (170 tests) | IN LK GH JM IE\n",
            "GB: 10.2 tries (683 tests) | GB CA AU US LK\n",
            "NZ: 10.4 tries (149 tests) | JM SG HK IE PH\n",
            "MY: 10.4 tries ( 69 tests) | NZ PH LK PK CA\n",
            "JM: 10.6 tries ( 87 tests) | KE US CA GB ZA\n",
            "NG: 11.2 tries ( 71 tests) | KE HK BD ZA MY\n"
          ]
        }
      ],
      "source": [
        "from sklearn.neural_network import MLPClassifier\n",
        "\n",
        "# Multi-layer Perceptron Model with undersampling\n",
        "mlp_model = MLPClassifier(random_state=3)\n",
        "average_performance(mlp_model,X, undersampling=True)\n",
        "average_performance(mlp_model,X_25, undersampling=True)\n",
        "average_performance(mlp_model,X_50, undersampling=True)"
      ]
    }
  ],
  "metadata": {
    "accelerator": "GPU",
    "colab": {
      "gpuType": "T4",
      "provenance": []
    },
    "kernelspec": {
      "display_name": "Python 3",
      "name": "python3"
    },
    "language_info": {
      "codemirror_mode": {
        "name": "ipython",
        "version": 3
      },
      "file_extension": ".py",
      "mimetype": "text/x-python",
      "name": "python",
      "nbconvert_exporter": "python",
      "pygments_lexer": "ipython3",
      "version": "3.12.2"
    }
  },
  "nbformat": 4,
  "nbformat_minor": 0
}
